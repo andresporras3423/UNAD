{
  "nbformat": 4,
  "nbformat_minor": 0,
  "metadata": {
    "colab": {
      "provenance": []
    },
    "kernelspec": {
      "name": "python3",
      "display_name": "Python 3"
    },
    "language_info": {
      "name": "python"
    }
  },
  "cells": [
    {
      "cell_type": "markdown",
      "source": [
        "<img src=\"https://www.unad.edu.co/images/footer/logo-unad-acreditacion-min.png\" width=\"780\" height=\"140\" align=\"right\"/>"
      ],
      "metadata": {
        "id": "xQq4Vi32-hdJ"
      }
    },
    {
      "cell_type": "markdown",
      "source": [
        "<p align=\"center\">Curso:Machine Learning</p>\n",
        "\n",
        "<p align=\"center\"> Código Curso: 203008067 </p>\n",
        "\n",
        "<p align=\"center\"> Grupo: __ </p>\n",
        "\n",
        " <p align=\"center\"> Fase 4 - Componente práctico - Prácticas simuladas</p>\n",
        "\n",
        " <p align=\"center\">  Presentado por: __________________</p>\n",
        "\n",
        "<p align=\"center\"> Código: _______________</p>\n",
        "\n",
        " <p align=\"center\">  Tutor(a): _____________________________ </p>\n",
        "\n",
        " <p align=\"center\"> UNIVERSIDAD NACIONAL ABIERTA Y A DISTANCIA - UNAD </p>\n",
        "\n",
        "<p align=\"center\"> _______________</p>"
      ],
      "metadata": {
        "id": "Fn5lIj0dj7Ju"
      }
    },
    {
      "cell_type": "markdown",
      "source": [
        "# Acción 1: Aplicación máquinas de soporte vectorial.\n",
        "\n",
        "___\n",
        "\n"
      ],
      "metadata": {
        "id": "sXcrdK_YiSgn"
      }
    },
    {
      "cell_type": "markdown",
      "source": [
        "# Acción 2: Aplicación K-Means.\n",
        "\n",
        "___\n",
        "\n"
      ],
      "metadata": {
        "id": "KrHiV966lNfi"
      }
    },
    {
      "cell_type": "markdown",
      "source": [
        "# Acción 3: Aplicación clustering jerárquico aglomerativo.\n",
        "\n",
        "___"
      ],
      "metadata": {
        "id": "3kgJdvEclvMf"
      }
    },
    {
      "cell_type": "markdown",
      "source": [
        "# Acción 4: Conclusiones."
      ],
      "metadata": {
        "id": "3AClW8uNmqTM"
      }
    },
    {
      "cell_type": "markdown",
      "source": [
        "- Redacte unas conclusiones generales (en una celda markdown) de los resultados de las acciones 1 a 4."
      ],
      "metadata": {
        "id": "avdj1yQVmraZ"
      }
    },
    {
      "cell_type": "markdown",
      "source": [
        "# Referencias"
      ],
      "metadata": {
        "id": "XNraS_lWFkk_"
      }
    },
    {
      "cell_type": "code",
      "source": [],
      "metadata": {
        "id": "Oq6SWYx1FmmS"
      },
      "execution_count": null,
      "outputs": []
    }
  ]
}