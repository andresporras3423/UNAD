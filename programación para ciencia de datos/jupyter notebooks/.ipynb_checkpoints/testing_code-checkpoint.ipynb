{
 "cells": [
  {
   "cell_type": "code",
   "execution_count": 1,
   "id": "1b297da1",
   "metadata": {},
   "outputs": [
    {
     "name": "stdout",
     "output_type": "stream",
     "text": [
      "Hello, World!\n"
     ]
    }
   ],
   "source": [
    "# variable de tipo diccionario donde el key es el nombre y el value es la tupla con la infiormación de la persona.\n",
    "people = {\n",
    "        \"Jenny\": (26,39,1.48,True) #Cada tupla contiene cuatro valores: Edad, Peso, Estatura, Estudia\n",
    "        ,\"Hilda\": (63,60,1.56,False)\n",
    "        ,\"Felipe\": (34,75,1.75,False) \n",
    "        ,\"Andrés\": (32,53,1.70,False)\n",
    "        ,\"Kevin\": (37,58,1.68,True)\n",
    "        ,\"Alejandro\": (43,68,1.78,False)\n",
    "        ,\"Pedro\": (62,65,1.75,False)\n",
    "        ,\"Paola\": (30,54,1.63,True)\n",
    "    }\n",
    "\n",
    "\n",
    "def get_average_list(list): # función que recibe como variable una lista\n",
    "    if(isinstance(list[0], bool)): # si la variable contiene boleanos\n",
    "        # sumar 1 si el valor es true, 0 si es false, luego divide sobre el total de datos para obtener el promedio\n",
    "        return sum([(1 if item else 0) for item in list])/len(list)\n",
    "    # si la lista no es de booleanos, suma los valores y divide sobre la longitud de la lista para sacar el promedio\n",
    "    return sum(list)/len(list)\n",
    "\n",
    "list_names = [\"age\",\"weight\",\"height\",\"study\"] # lista para identificar el orden de los valores en la tupla\n",
    "for index in range(4): # bucle para construir cada una de las 4 listas\n",
    "  current_list=[]\n",
    "  for key, value in people.items(): # buble para leer el key y el value del diccionario\n",
    "    current_list.append(value[index]) # agregar a la lista el valor correspondiente de la tupla\n",
    "  average = get_average_list(current_list) # obtiene el promedio usando la función creada\n",
    "  print(f\"average of {list_names[index]}: {average}\") # muestra el promedio calculado para la actual lista."
   ]
  }
 ],
 "metadata": {
  "kernelspec": {
   "display_name": "Python 3 (ipykernel)",
   "language": "python",
   "name": "python3"
  },
  "language_info": {
   "codemirror_mode": {
    "name": "ipython",
    "version": 3
   },
   "file_extension": ".py",
   "mimetype": "text/x-python",
   "name": "python",
   "nbconvert_exporter": "python",
   "pygments_lexer": "ipython3",
   "version": "3.8.12"
  }
 },
 "nbformat": 4,
 "nbformat_minor": 5
}
