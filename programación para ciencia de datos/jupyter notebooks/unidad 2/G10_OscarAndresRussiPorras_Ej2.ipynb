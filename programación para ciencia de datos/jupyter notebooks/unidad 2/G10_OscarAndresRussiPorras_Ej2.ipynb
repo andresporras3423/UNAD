{
 "cells": [
  {
   "cell_type": "markdown",
   "id": "ee1af613",
   "metadata": {},
   "source": [
    "<h4 style=\"text-align: center;\"> Curso: Programación para el análisis de datos</h4><br>\n",
    "<h4 style=\"text-align: center;\">Tarea: Unidad 1 - ejercicio 1</h4><br>\n",
    "<h4 style=\"text-align: center;\">Presentado por: Oscar Andrés Russi Porras</h4><br>\n",
    "<h4 style=\"text-align: center;\">Grupo: 10</h4><br>\n",
    "<h4 style=\"text-align: center;\">Código: 1018436442</h4><br>\n",
    "<h4 style=\"text-align: center;\">Presentado a: Felipe Alexander Pipicano Guzmán</h4><br>\n",
    "<h4 style=\"text-align: center;\">Universidad Nacional Abierta y a Distancia – UNAD</h4><br>\n",
    "<h4 style=\"text-align: center;\">Fecha: 10/09/2023</h4><br>\n"
   ]
  },
  {
   "cell_type": "markdown",
   "id": "9928458b",
   "metadata": {},
   "source": []
  },
  {
   "cell_type": "markdown",
   "id": "4a003c7c",
   "metadata": {},
   "source": [
    "<h3><ul>Para este ejercicio, cargue de nuevo los datos del Ejercicio 1, pero\n",
    "genere un DataFrame llamado df, solamente con las columnas:\n",
    "    <li> type</li>\n",
    "    <li> mass_kg</li>\n",
    "<li> year_built</li>\n",
    "    <li> home_port</li>\n",
    "    <li> name</li>\n",
    " <ul>\n",
    "  </h3>\n"
   ]
  },
  {
   "cell_type": "code",
   "execution_count": 2,
   "id": "9548ea64",
   "metadata": {},
   "outputs": [
    {
     "name": "stdout",
     "output_type": "stream",
     "text": [
      "                type    mass_kg  year_built            home_port  \\\n",
      "0                Tug   266712.0      1976.0  Port of Los Angeles   \n",
      "1              Cargo        NaN         NaN  Port of Los Angeles   \n",
      "2              Cargo        NaN         NaN  Port of Los Angeles   \n",
      "3              Barge        NaN      2021.0       Port Canaveral   \n",
      "4                Tug   202302.0      1974.0  Port of Los Angeles   \n",
      "5                Tug   273063.0      1999.0       Port Canaveral   \n",
      "6   High Speed Craft   449964.0      2014.0       Port Canaveral   \n",
      "7   High Speed Craft   449964.0      2015.0       Port Canaveral   \n",
      "8              Cargo   451778.0      2009.0       Port Canaveral   \n",
      "9              Cargo   502999.0      2007.0       Port Canaveral   \n",
      "10             Cargo        NaN      2014.0       Port Canaveral   \n",
      "11             Cargo   450870.0      2010.0       Port Canaveral   \n",
      "12               Tug   508023.0      1995.0       Port Canaveral   \n",
      "13               Tug   320236.0      1985.0      Fort Lauderdale   \n",
      "14             Barge        NaN      2014.0       Port Canaveral   \n",
      "15             Barge        NaN      2015.0       Port Canaveral   \n",
      "16               Tug        NaN         NaN  Port of Los Angeles   \n",
      "17             Cargo   440892.0      2002.0  Port of Los Angeles   \n",
      "18             Barge        NaN      2015.0  Port of Los Angeles   \n",
      "19               Tug    89811.0      1976.0  Port of Los Angeles   \n",
      "20               Tug   351080.0      1974.0  Port of Los Angeles   \n",
      "21               Tug   312072.0      1976.0       Port Canaveral   \n",
      "22               Tug   843682.0      1975.0       Port Canaveral   \n",
      "23               Tug   741170.0      2003.0       Port Canaveral   \n",
      "24             Cargo  2097411.0      2014.0       Port Canaveral   \n",
      "25               Tug   445428.0      1944.0       Port Canaveral   \n",
      "26             Cargo  4616663.0      2015.0       Port Canaveral   \n",
      "27             Cargo  2719740.0      2009.0       Port Canaveral   \n",
      "28             Cargo  2719740.0      2009.0       Port Canaveral   \n",
      "\n",
      "                            name  \n",
      "0              American Champion  \n",
      "1              American Islander  \n",
      "2                American Spirit  \n",
      "3        A Shortfall of Gravitas  \n",
      "4             Betty R Gambarella  \n",
      "5                    Elsbeth III  \n",
      "6                    GO Ms Chief  \n",
      "7                     GO Ms Tree  \n",
      "8                        Shannon  \n",
      "9                     GO Pursuit  \n",
      "10                      GO Quest  \n",
      "11                         Megan  \n",
      "12                          HAWK  \n",
      "13                     Hollywood  \n",
      "14  Just Read The Instructions 1  \n",
      "15  Just Read The Instructions 2  \n",
      "16                       Kelly C  \n",
      "17                     NRC Quest  \n",
      "18    Of Course I Still Love You  \n",
      "19              Pacific Freeedom  \n",
      "20               Pacific Warrior  \n",
      "21                        RACHEL  \n",
      "22                  Finn Falgout  \n",
      "23                   Lauren Foss  \n",
      "24               Shelia Bordelon  \n",
      "25                     Mr. Jonah  \n",
      "26                 HOS Briarwood  \n",
      "27                          Doug  \n",
      "28                           Bob  \n"
     ]
    }
   ],
   "source": [
    "import requests\n",
    "import pandas as pd\n",
    "\n",
    "url = \"https://api.spacexdata.com/v4/ships\"\n",
    "response = requests.get(url)\n",
    "data = response.json()\n",
    "df_all_columns = pd.DataFrame.from_dict(data)\n",
    "# Seleccionar solo las columnas deseadas\n",
    "selected_columns = [\"type\", \"mass_kg\", \"year_built\",\"home_port\",\"name\"]\n",
    "df = df_all_columns[selected_columns]\n",
    "print(df)"
   ]
  },
  {
   "cell_type": "markdown",
   "id": "d33a338e",
   "metadata": {},
   "source": [
    "<h3>Determine cuantos datos faltantes hay en la variable mass_kg del\n",
    "mediante value_counts()</h3>"
   ]
  },
  {
   "cell_type": "code",
   "execution_count": 3,
   "id": "12589f74",
   "metadata": {},
   "outputs": [
    {
     "name": "stdout",
     "output_type": "stream",
     "text": [
      "El número de datos faltantes es: 8\n"
     ]
    }
   ],
   "source": [
    "total = len(df)\n",
    "non_null_values = sum(df[\"mass_kg\"].value_counts().values)\n",
    "print(f\"El número de datos faltantes es: {total-non_null_values}\")"
   ]
  },
  {
   "cell_type": "markdown",
   "id": "f4887163",
   "metadata": {},
   "source": [
    "<h3>Crea un DataFrame df1 removiendo las filas que tienen algunos\n",
    "datos faltantes. Por otro lado crea un DataFrame df2 removiendo\n",
    "las filas que tienen todos los datos faltantes. Compáralos y\n",
    "comenta los resultados.</h3>"
   ]
  },
  {
   "cell_type": "code",
   "execution_count": 5,
   "id": "0176d5c2",
   "metadata": {},
   "outputs": [
    {
     "name": "stdout",
     "output_type": "stream",
     "text": [
      "     type  mass_kg  year_built            home_port  \\\n",
      "1   Cargo      NaN         NaN  Port of Los Angeles   \n",
      "2   Cargo      NaN         NaN  Port of Los Angeles   \n",
      "3   Barge      NaN      2021.0       Port Canaveral   \n",
      "10  Cargo      NaN      2014.0       Port Canaveral   \n",
      "14  Barge      NaN      2014.0       Port Canaveral   \n",
      "15  Barge      NaN      2015.0       Port Canaveral   \n",
      "16    Tug      NaN         NaN  Port of Los Angeles   \n",
      "18  Barge      NaN      2015.0  Port of Los Angeles   \n",
      "\n",
      "                            name  \n",
      "1              American Islander  \n",
      "2                American Spirit  \n",
      "3        A Shortfall of Gravitas  \n",
      "10                      GO Quest  \n",
      "14  Just Read The Instructions 1  \n",
      "15  Just Read The Instructions 2  \n",
      "16                       Kelly C  \n",
      "18    Of Course I Still Love You  \n",
      "Empty DataFrame\n",
      "Columns: [type, mass_kg, year_built, home_port, name]\n",
      "Index: []\n"
     ]
    }
   ],
   "source": [
    "df1 = df[df.isnull().any(axis=1)]\n",
    "df2 = df[df.isnull().all(axis=1)]\n",
    "print(df1)\n",
    "print(df2)"
   ]
  },
  {
   "cell_type": "markdown",
   "id": "e4108bf1",
   "metadata": {},
   "source": [
    "<h3> En el DataFrame df completa los datos faltantes por los siguientes\n",
    "tres métodos (muestra y comenta los resultados):\n",
    "    <ul>\n",
    "        <li>Completar datos faltantes con el número 0.</li>\n",
    "        <li>Completar por método de propagación hacia adelante.</li>\n",
    "        <li>Completar los valores faltantes con el promedio de la columna.</li>\n",
    "        </ul></h3>"
   ]
  },
  {
   "cell_type": "code",
   "execution_count": 6,
   "id": "d6d1d9b4",
   "metadata": {},
   "outputs": [
    {
     "name": "stdout",
     "output_type": "stream",
     "text": [
      "FILL WITH FORWARD ZERO:\n",
      "                type    mass_kg  year_built            home_port  \\\n",
      "0                Tug   266712.0      1976.0  Port of Los Angeles   \n",
      "1              Cargo        0.0         0.0  Port of Los Angeles   \n",
      "2              Cargo        0.0         0.0  Port of Los Angeles   \n",
      "3              Barge        0.0      2021.0       Port Canaveral   \n",
      "4                Tug   202302.0      1974.0  Port of Los Angeles   \n",
      "5                Tug   273063.0      1999.0       Port Canaveral   \n",
      "6   High Speed Craft   449964.0      2014.0       Port Canaveral   \n",
      "7   High Speed Craft   449964.0      2015.0       Port Canaveral   \n",
      "8              Cargo   451778.0      2009.0       Port Canaveral   \n",
      "9              Cargo   502999.0      2007.0       Port Canaveral   \n",
      "10             Cargo        0.0      2014.0       Port Canaveral   \n",
      "11             Cargo   450870.0      2010.0       Port Canaveral   \n",
      "12               Tug   508023.0      1995.0       Port Canaveral   \n",
      "13               Tug   320236.0      1985.0      Fort Lauderdale   \n",
      "14             Barge        0.0      2014.0       Port Canaveral   \n",
      "15             Barge        0.0      2015.0       Port Canaveral   \n",
      "16               Tug        0.0         0.0  Port of Los Angeles   \n",
      "17             Cargo   440892.0      2002.0  Port of Los Angeles   \n",
      "18             Barge        0.0      2015.0  Port of Los Angeles   \n",
      "19               Tug    89811.0      1976.0  Port of Los Angeles   \n",
      "20               Tug   351080.0      1974.0  Port of Los Angeles   \n",
      "21               Tug   312072.0      1976.0       Port Canaveral   \n",
      "22               Tug   843682.0      1975.0       Port Canaveral   \n",
      "23               Tug   741170.0      2003.0       Port Canaveral   \n",
      "24             Cargo  2097411.0      2014.0       Port Canaveral   \n",
      "25               Tug   445428.0      1944.0       Port Canaveral   \n",
      "26             Cargo  4616663.0      2015.0       Port Canaveral   \n",
      "27             Cargo  2719740.0      2009.0       Port Canaveral   \n",
      "28             Cargo  2719740.0      2009.0       Port Canaveral   \n",
      "\n",
      "                            name  \n",
      "0              American Champion  \n",
      "1              American Islander  \n",
      "2                American Spirit  \n",
      "3        A Shortfall of Gravitas  \n",
      "4             Betty R Gambarella  \n",
      "5                    Elsbeth III  \n",
      "6                    GO Ms Chief  \n",
      "7                     GO Ms Tree  \n",
      "8                        Shannon  \n",
      "9                     GO Pursuit  \n",
      "10                      GO Quest  \n",
      "11                         Megan  \n",
      "12                          HAWK  \n",
      "13                     Hollywood  \n",
      "14  Just Read The Instructions 1  \n",
      "15  Just Read The Instructions 2  \n",
      "16                       Kelly C  \n",
      "17                     NRC Quest  \n",
      "18    Of Course I Still Love You  \n",
      "19              Pacific Freeedom  \n",
      "20               Pacific Warrior  \n",
      "21                        RACHEL  \n",
      "22                  Finn Falgout  \n",
      "23                   Lauren Foss  \n",
      "24               Shelia Bordelon  \n",
      "25                     Mr. Jonah  \n",
      "26                 HOS Briarwood  \n",
      "27                          Doug  \n",
      "28                           Bob  \n",
      "FILL WITH FORWARD FILL:\n",
      "                type    mass_kg  year_built            home_port  \\\n",
      "0                Tug   266712.0      1976.0  Port of Los Angeles   \n",
      "1              Cargo   266712.0      1976.0  Port of Los Angeles   \n",
      "2              Cargo   266712.0      1976.0  Port of Los Angeles   \n",
      "3              Barge   266712.0      2021.0       Port Canaveral   \n",
      "4                Tug   202302.0      1974.0  Port of Los Angeles   \n",
      "5                Tug   273063.0      1999.0       Port Canaveral   \n",
      "6   High Speed Craft   449964.0      2014.0       Port Canaveral   \n",
      "7   High Speed Craft   449964.0      2015.0       Port Canaveral   \n",
      "8              Cargo   451778.0      2009.0       Port Canaveral   \n",
      "9              Cargo   502999.0      2007.0       Port Canaveral   \n",
      "10             Cargo   502999.0      2014.0       Port Canaveral   \n",
      "11             Cargo   450870.0      2010.0       Port Canaveral   \n",
      "12               Tug   508023.0      1995.0       Port Canaveral   \n",
      "13               Tug   320236.0      1985.0      Fort Lauderdale   \n",
      "14             Barge   320236.0      2014.0       Port Canaveral   \n",
      "15             Barge   320236.0      2015.0       Port Canaveral   \n",
      "16               Tug   320236.0      2015.0  Port of Los Angeles   \n",
      "17             Cargo   440892.0      2002.0  Port of Los Angeles   \n",
      "18             Barge   440892.0      2015.0  Port of Los Angeles   \n",
      "19               Tug    89811.0      1976.0  Port of Los Angeles   \n",
      "20               Tug   351080.0      1974.0  Port of Los Angeles   \n",
      "21               Tug   312072.0      1976.0       Port Canaveral   \n",
      "22               Tug   843682.0      1975.0       Port Canaveral   \n",
      "23               Tug   741170.0      2003.0       Port Canaveral   \n",
      "24             Cargo  2097411.0      2014.0       Port Canaveral   \n",
      "25               Tug   445428.0      1944.0       Port Canaveral   \n",
      "26             Cargo  4616663.0      2015.0       Port Canaveral   \n",
      "27             Cargo  2719740.0      2009.0       Port Canaveral   \n",
      "28             Cargo  2719740.0      2009.0       Port Canaveral   \n",
      "\n",
      "                            name  \n",
      "0              American Champion  \n",
      "1              American Islander  \n",
      "2                American Spirit  \n",
      "3        A Shortfall of Gravitas  \n",
      "4             Betty R Gambarella  \n",
      "5                    Elsbeth III  \n",
      "6                    GO Ms Chief  \n",
      "7                     GO Ms Tree  \n",
      "8                        Shannon  \n",
      "9                     GO Pursuit  \n",
      "10                      GO Quest  \n",
      "11                         Megan  \n",
      "12                          HAWK  \n",
      "13                     Hollywood  \n",
      "14  Just Read The Instructions 1  \n",
      "15  Just Read The Instructions 2  \n",
      "16                       Kelly C  \n",
      "17                     NRC Quest  \n",
      "18    Of Course I Still Love You  \n",
      "19              Pacific Freeedom  \n",
      "20               Pacific Warrior  \n",
      "21                        RACHEL  \n",
      "22                  Finn Falgout  \n",
      "23                   Lauren Foss  \n",
      "24               Shelia Bordelon  \n",
      "25                     Mr. Jonah  \n",
      "26                 HOS Briarwood  \n",
      "27                          Doug  \n",
      "28                           Bob  \n",
      "Ocurrió un error al intentar completar los valores faltantes: Could not convert ['TugCargoCargoBargeTugTugHigh Speed CraftHigh Speed CraftCargoCargoCargoCargoTugTugBargeBargeTugCargoBargeTugTugTugTugTugCargoTugCargoCargoCargo'\n",
      " 'Port of Los AngelesPort of Los AngelesPort of Los AngelesPort CanaveralPort of Los AngelesPort CanaveralPort CanaveralPort CanaveralPort CanaveralPort CanaveralPort CanaveralPort CanaveralPort CanaveralFort LauderdalePort CanaveralPort CanaveralPort of Los AngelesPort of Los AngelesPort of Los AngelesPort of Los AngelesPort of Los AngelesPort CanaveralPort CanaveralPort CanaveralPort CanaveralPort CanaveralPort CanaveralPort CanaveralPort Canaveral'\n",
      " 'American ChampionAmerican IslanderAmerican SpiritA Shortfall of GravitasBetty R GambarellaElsbeth IIIGO Ms ChiefGO Ms TreeShannonGO PursuitGO QuestMeganHAWKHollywoodJust Read The Instructions 1Just Read The Instructions 2Kelly CNRC QuestOf Course I Still Love YouPacific FreeedomPacific WarriorRACHELFinn FalgoutLauren FossShelia BordelonMr. JonahHOS BriarwoodDougBob'] to numeric\n"
     ]
    }
   ],
   "source": [
    "fill_zero = lambda df_: df_.fillna(0)\n",
    "fill_forward = lambda df_: df_.fillna(method='ffill')\n",
    "fill_mean = lambda df_: df_.fillna(df.mean())\n",
    "def fill_nulls(df_, method_, message_):\n",
    "    try:\n",
    "        df_filled_null = method_(df_)\n",
    "        print(message_)\n",
    "        print(df_filled_null)\n",
    "    except Exception as e:\n",
    "        print(\"Ocurrió un error al intentar completar los valores faltantes:\", e)\n",
    "fill_nulls(df, fill_zero,\"FILL WITH FORWARD ZERO:\")\n",
    "fill_nulls(df, fill_forward,\"FILL WITH FORWARD FILL:\")\n",
    "fill_nulls(df, fill_mean,\"FILL WITH MEAN:\")"
   ]
  },
  {
   "cell_type": "markdown",
   "id": "cf105cf9",
   "metadata": {},
   "source": [
    "<h3>Operaciones de strings:\n",
    "Realice las siguientes operaciones en el DataFrame df:\n",
    "De la columna home_port extraiga la primera palabra de cada\n",
    "dato y muestre los resultados.\n",
    "</h3>"
   ]
  },
  {
   "cell_type": "code",
   "execution_count": 7,
   "id": "33d3d741",
   "metadata": {
    "scrolled": true
   },
   "outputs": [
    {
     "name": "stdout",
     "output_type": "stream",
     "text": [
      "0     P\n",
      "1     P\n",
      "2     P\n",
      "3     P\n",
      "4     P\n",
      "5     P\n",
      "6     P\n",
      "7     P\n",
      "8     P\n",
      "9     P\n",
      "10    P\n",
      "11    P\n",
      "12    P\n",
      "13    F\n",
      "14    P\n",
      "15    P\n",
      "16    P\n",
      "17    P\n",
      "18    P\n",
      "19    P\n",
      "20    P\n",
      "21    P\n",
      "22    P\n",
      "23    P\n",
      "24    P\n",
      "25    P\n",
      "26    P\n",
      "27    P\n",
      "28    P\n",
      "Name: home_port, dtype: object\n"
     ]
    }
   ],
   "source": [
    "first_chars = df['home_port'].str[0]\n",
    "\n",
    "print(first_chars)"
   ]
  },
  {
   "cell_type": "markdown",
   "id": "291af0f5",
   "metadata": {},
   "source": [
    "<h3>Determine cuántos datos comienzan con la palabra Port y cuántos\n",
    "datos comienzan con una palabra diferente, ¿Cuáles son las\n",
    "palabras diferentes?\n",
    "</h3>"
   ]
  },
  {
   "cell_type": "code",
   "execution_count": 8,
   "id": "c3119a79",
   "metadata": {
    "scrolled": true
   },
   "outputs": [
    {
     "name": "stdout",
     "output_type": "stream",
     "text": [
      "VALUES WITH PORT AT THE START:\n",
      "                type    mass_kg  year_built            home_port  \\\n",
      "0                Tug   266712.0      1976.0  Port of Los Angeles   \n",
      "1              Cargo        NaN         NaN  Port of Los Angeles   \n",
      "2              Cargo        NaN         NaN  Port of Los Angeles   \n",
      "3              Barge        NaN      2021.0       Port Canaveral   \n",
      "4                Tug   202302.0      1974.0  Port of Los Angeles   \n",
      "5                Tug   273063.0      1999.0       Port Canaveral   \n",
      "6   High Speed Craft   449964.0      2014.0       Port Canaveral   \n",
      "7   High Speed Craft   449964.0      2015.0       Port Canaveral   \n",
      "8              Cargo   451778.0      2009.0       Port Canaveral   \n",
      "9              Cargo   502999.0      2007.0       Port Canaveral   \n",
      "10             Cargo        NaN      2014.0       Port Canaveral   \n",
      "11             Cargo   450870.0      2010.0       Port Canaveral   \n",
      "12               Tug   508023.0      1995.0       Port Canaveral   \n",
      "14             Barge        NaN      2014.0       Port Canaveral   \n",
      "15             Barge        NaN      2015.0       Port Canaveral   \n",
      "16               Tug        NaN         NaN  Port of Los Angeles   \n",
      "17             Cargo   440892.0      2002.0  Port of Los Angeles   \n",
      "18             Barge        NaN      2015.0  Port of Los Angeles   \n",
      "19               Tug    89811.0      1976.0  Port of Los Angeles   \n",
      "20               Tug   351080.0      1974.0  Port of Los Angeles   \n",
      "21               Tug   312072.0      1976.0       Port Canaveral   \n",
      "22               Tug   843682.0      1975.0       Port Canaveral   \n",
      "23               Tug   741170.0      2003.0       Port Canaveral   \n",
      "24             Cargo  2097411.0      2014.0       Port Canaveral   \n",
      "25               Tug   445428.0      1944.0       Port Canaveral   \n",
      "26             Cargo  4616663.0      2015.0       Port Canaveral   \n",
      "27             Cargo  2719740.0      2009.0       Port Canaveral   \n",
      "28             Cargo  2719740.0      2009.0       Port Canaveral   \n",
      "\n",
      "                            name  \n",
      "0              American Champion  \n",
      "1              American Islander  \n",
      "2                American Spirit  \n",
      "3        A Shortfall of Gravitas  \n",
      "4             Betty R Gambarella  \n",
      "5                    Elsbeth III  \n",
      "6                    GO Ms Chief  \n",
      "7                     GO Ms Tree  \n",
      "8                        Shannon  \n",
      "9                     GO Pursuit  \n",
      "10                      GO Quest  \n",
      "11                         Megan  \n",
      "12                          HAWK  \n",
      "14  Just Read The Instructions 1  \n",
      "15  Just Read The Instructions 2  \n",
      "16                       Kelly C  \n",
      "17                     NRC Quest  \n",
      "18    Of Course I Still Love You  \n",
      "19              Pacific Freeedom  \n",
      "20               Pacific Warrior  \n",
      "21                        RACHEL  \n",
      "22                  Finn Falgout  \n",
      "23                   Lauren Foss  \n",
      "24               Shelia Bordelon  \n",
      "25                     Mr. Jonah  \n",
      "26                 HOS Briarwood  \n",
      "27                          Doug  \n",
      "28                           Bob  \n",
      "VALUES WITH NO PORT AT THE START:\n",
      "   type   mass_kg  year_built        home_port       name\n",
      "13  Tug  320236.0      1985.0  Fort Lauderdale  Hollywood\n",
      "LIST OF WORDS WHEN PORT IS NOT THE FIRST WORD:\n",
      "13    Fort\n",
      "Name: home_port, dtype: object\n"
     ]
    }
   ],
   "source": [
    "start_with_port = df[df['home_port'].str.startswith('Port')]\n",
    "not_port = df[~df['home_port'].str.startswith('Port')]\n",
    "print(\"VALUES WITH PORT AT THE START:\")\n",
    "print(start_with_port)\n",
    "print(\"VALUES WITH NO PORT AT THE START:\")\n",
    "print(not_port)\n",
    "first_words = not_port['home_port'].str.split().str[0]\n",
    "print(\"LIST OF WORDS WHEN PORT IS NOT THE FIRST WORD:\")\n",
    "print(first_words)"
   ]
  },
  {
   "cell_type": "markdown",
   "id": "78d47bb3",
   "metadata": {},
   "source": [
    "<h3>Filtre el DataFrame con los datos que en la columna name\n",
    "contengan en el string la palabra “GO” y muestre los resultados.</h3>"
   ]
  },
  {
   "cell_type": "code",
   "execution_count": 9,
   "id": "64b1adc1",
   "metadata": {},
   "outputs": [
    {
     "name": "stdout",
     "output_type": "stream",
     "text": [
      "VALUES THAT CONTAINS GO:\n",
      "                type   mass_kg  year_built       home_port         name\n",
      "6   High Speed Craft  449964.0      2014.0  Port Canaveral  GO Ms Chief\n",
      "7   High Speed Craft  449964.0      2015.0  Port Canaveral   GO Ms Tree\n",
      "9              Cargo  502999.0      2007.0  Port Canaveral   GO Pursuit\n",
      "10             Cargo       NaN      2014.0  Port Canaveral     GO Quest\n"
     ]
    }
   ],
   "source": [
    "contains_go = df[df['name'].str.contains('GO')]\n",
    "print(\"VALUES THAT CONTAINS GO:\")\n",
    "print(contains_go)"
   ]
  },
  {
   "cell_type": "markdown",
   "id": "9e42073c",
   "metadata": {},
   "source": [
    "<h3>Convierta todos los strings de la columna name en palabras con\n",
    "todas sus letras mayúsculas y muestre los resultados.</h3>"
   ]
  },
  {
   "cell_type": "code",
   "execution_count": 13,
   "id": "eec41a98",
   "metadata": {
    "scrolled": true
   },
   "outputs": [
    {
     "name": "stdout",
     "output_type": "stream",
     "text": [
      "0                AMERICAN CHAMPION\n",
      "1                AMERICAN ISLANDER\n",
      "2                  AMERICAN SPIRIT\n",
      "3          A SHORTFALL OF GRAVITAS\n",
      "4               BETTY R GAMBARELLA\n",
      "5                      ELSBETH III\n",
      "6                      GO MS CHIEF\n",
      "7                       GO MS TREE\n",
      "8                          SHANNON\n",
      "9                       GO PURSUIT\n",
      "10                        GO QUEST\n",
      "11                           MEGAN\n",
      "12                            HAWK\n",
      "13                       HOLLYWOOD\n",
      "14    JUST READ THE INSTRUCTIONS 1\n",
      "15    JUST READ THE INSTRUCTIONS 2\n",
      "16                         KELLY C\n",
      "17                       NRC QUEST\n",
      "18      OF COURSE I STILL LOVE YOU\n",
      "19                PACIFIC FREEEDOM\n",
      "20                 PACIFIC WARRIOR\n",
      "21                          RACHEL\n",
      "22                    FINN FALGOUT\n",
      "23                     LAUREN FOSS\n",
      "24                 SHELIA BORDELON\n",
      "25                       MR. JONAH\n",
      "26                   HOS BRIARWOOD\n",
      "27                            DOUG\n",
      "28                             BOB\n",
      "Name: name, dtype: object\n"
     ]
    }
   ],
   "source": [
    "df_clone= df.copy()\n",
    "df_clone['name'] = df_clone['name'].str.upper()\n",
    "print(df_clone['name'])"
   ]
  },
  {
   "cell_type": "markdown",
   "id": "a112fe9f",
   "metadata": {},
   "source": [
    "<h3>Convierta todos los strings de la columna type en palabras con\n",
    "todas sus letras minúsculas y muestre los resultados.</h3>"
   ]
  },
  {
   "cell_type": "code",
   "execution_count": 14,
   "id": "2b15dbda",
   "metadata": {},
   "outputs": [
    {
     "name": "stdout",
     "output_type": "stream",
     "text": [
      "0                  tug\n",
      "1                cargo\n",
      "2                cargo\n",
      "3                barge\n",
      "4                  tug\n",
      "5                  tug\n",
      "6     high speed craft\n",
      "7     high speed craft\n",
      "8                cargo\n",
      "9                cargo\n",
      "10               cargo\n",
      "11               cargo\n",
      "12                 tug\n",
      "13                 tug\n",
      "14               barge\n",
      "15               barge\n",
      "16                 tug\n",
      "17               cargo\n",
      "18               barge\n",
      "19                 tug\n",
      "20                 tug\n",
      "21                 tug\n",
      "22                 tug\n",
      "23                 tug\n",
      "24               cargo\n",
      "25                 tug\n",
      "26               cargo\n",
      "27               cargo\n",
      "28               cargo\n",
      "Name: type, dtype: object\n"
     ]
    }
   ],
   "source": [
    "df_clone= df.copy()\n",
    "df_clone['type'] = df_clone['type'].str.lower()\n",
    "print(df_clone['type'])"
   ]
  },
  {
   "cell_type": "markdown",
   "id": "e0159269",
   "metadata": {},
   "source": [
    "<h3>Divida todos los strings de la columna home_port por el espacio\n",
    "en blanco y muestre los resultados.</h3>"
   ]
  },
  {
   "cell_type": "code",
   "execution_count": 16,
   "id": "72400902",
   "metadata": {},
   "outputs": [
    {
     "name": "stdout",
     "output_type": "stream",
     "text": [
      "0     [Port, of, Los, Angeles]\n",
      "1     [Port, of, Los, Angeles]\n",
      "2     [Port, of, Los, Angeles]\n",
      "3            [Port, Canaveral]\n",
      "4     [Port, of, Los, Angeles]\n",
      "5            [Port, Canaveral]\n",
      "6            [Port, Canaveral]\n",
      "7            [Port, Canaveral]\n",
      "8            [Port, Canaveral]\n",
      "9            [Port, Canaveral]\n",
      "10           [Port, Canaveral]\n",
      "11           [Port, Canaveral]\n",
      "12           [Port, Canaveral]\n",
      "13          [Fort, Lauderdale]\n",
      "14           [Port, Canaveral]\n",
      "15           [Port, Canaveral]\n",
      "16    [Port, of, Los, Angeles]\n",
      "17    [Port, of, Los, Angeles]\n",
      "18    [Port, of, Los, Angeles]\n",
      "19    [Port, of, Los, Angeles]\n",
      "20    [Port, of, Los, Angeles]\n",
      "21           [Port, Canaveral]\n",
      "22           [Port, Canaveral]\n",
      "23           [Port, Canaveral]\n",
      "24           [Port, Canaveral]\n",
      "25           [Port, Canaveral]\n",
      "26           [Port, Canaveral]\n",
      "27           [Port, Canaveral]\n",
      "28           [Port, Canaveral]\n",
      "Name: home_port, dtype: object\n"
     ]
    }
   ],
   "source": [
    "df_clone= df.copy()\n",
    "df_clone['home_port'] = df_clone['home_port'].str.split()\n",
    "print(df_clone['home_port'])"
   ]
  },
  {
   "cell_type": "markdown",
   "id": "5c9a03ce",
   "metadata": {},
   "source": [
    "<h3>Reemplace todas las palabras ‘Port’ que se encuentran en la\n",
    "columna home_port por la abreviación ‘P.’ y muestre los\n",
    "resultados.</h3>"
   ]
  },
  {
   "cell_type": "code",
   "execution_count": 17,
   "id": "5f0e57f3",
   "metadata": {},
   "outputs": [
    {
     "name": "stdout",
     "output_type": "stream",
     "text": [
      "0     P of Los Angeles\n",
      "1     P of Los Angeles\n",
      "2     P of Los Angeles\n",
      "3          P Canaveral\n",
      "4     P of Los Angeles\n",
      "5          P Canaveral\n",
      "6          P Canaveral\n",
      "7          P Canaveral\n",
      "8          P Canaveral\n",
      "9          P Canaveral\n",
      "10         P Canaveral\n",
      "11         P Canaveral\n",
      "12         P Canaveral\n",
      "13     Fort Lauderdale\n",
      "14         P Canaveral\n",
      "15         P Canaveral\n",
      "16    P of Los Angeles\n",
      "17    P of Los Angeles\n",
      "18    P of Los Angeles\n",
      "19    P of Los Angeles\n",
      "20    P of Los Angeles\n",
      "21         P Canaveral\n",
      "22         P Canaveral\n",
      "23         P Canaveral\n",
      "24         P Canaveral\n",
      "25         P Canaveral\n",
      "26         P Canaveral\n",
      "27         P Canaveral\n",
      "28         P Canaveral\n",
      "Name: home_port, dtype: object\n"
     ]
    }
   ],
   "source": [
    "df_clone= df.copy()\n",
    "df_clone['home_port'] = df_clone['home_port'].str.replace(\"Port\",\"P\")\n",
    "print(df_clone['home_port'])"
   ]
  },
  {
   "cell_type": "markdown",
   "id": "e322c998",
   "metadata": {},
   "source": [
    "<h3>Conclusiones</h3>\n",
    "<ul>\n",
    "    <li>De los 21 tipos de barcos, el 80.95% tiene una masa de menos de 1 millón de kilogramos, y solo un barco supera los 4 millones de kilogramos en su masa.</li>\n",
    "    <li>la data que se obtiene del edpoint de spacex tiene 28 filas y 24 columnas. De esas 24 columnas 9 son variables cuantitativas y dos son listas, una es la lista de roles y la otra es la lista de lanzamientos.</li>\n",
    "</ul>"
   ]
  },
  {
   "cell_type": "markdown",
   "id": "370015cf",
   "metadata": {},
   "source": [
    "<h3>Bibliografía</h3>\n",
    "<ul>\n",
    "<li>Alex Galea. (2018). Applied Data Science with Python and Jupyter: Use Powerful Industry-standard Tools to Unlock New, Actionable Insights From Your Data: Vol. 1st edition.</li>\n",
    "<li>Boschetti, A., & Massaron, L. (2016). Python Data Science Essentials - Second Edition (Vol. 0002).</li>\n",
    "<li>Samir Madhavan. (2015). Mastering Python for Data Science: Explore the World of Data Science Through Python and Learn How to Make Sense of Data.</li>\n",
    "<li>Vargas, M. (2022). Carga de datos en Python desde un archivo Excel. UNAD. [OVI]</li>\n",
    "<li>McKinney, W. (2015). Pandas, python data analysis library. URL http://pandas. pydata. org, 3-15.</li>\n",
    "</ul>"
   ]
  },
  {
   "cell_type": "code",
   "execution_count": null,
   "id": "23b7f1d7",
   "metadata": {},
   "outputs": [],
   "source": []
  }
 ],
 "metadata": {
  "kernelspec": {
   "display_name": "Python 3 (ipykernel)",
   "language": "python",
   "name": "python3"
  },
  "language_info": {
   "codemirror_mode": {
    "name": "ipython",
    "version": 3
   },
   "file_extension": ".py",
   "mimetype": "text/x-python",
   "name": "python",
   "nbconvert_exporter": "python",
   "pygments_lexer": "ipython3",
   "version": "3.8.12"
  }
 },
 "nbformat": 4,
 "nbformat_minor": 5
}
