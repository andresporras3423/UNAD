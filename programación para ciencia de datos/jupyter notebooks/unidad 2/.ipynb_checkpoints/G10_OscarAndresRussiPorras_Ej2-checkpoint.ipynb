{
 "cells": [
  {
   "cell_type": "markdown",
   "id": "ee1af613",
   "metadata": {},
   "source": [
    "<h4 style=\"text-align: center;\"> Curso: Programación para el análisis de datos</h4><br>\n",
    "<h4 style=\"text-align: center;\">Tarea: Unidad 1 - ejercicio 1</h4><br>\n",
    "<h4 style=\"text-align: center;\">Presentado por: Oscar Andrés Russi Porras</h4><br>\n",
    "<h4 style=\"text-align: center;\">Grupo: 10</h4><br>\n",
    "<h4 style=\"text-align: center;\">Código: 1018436442</h4><br>\n",
    "<h4 style=\"text-align: center;\">Presentado a: Felipe Alexander Pipicano Guzmán</h4><br>\n",
    "<h4 style=\"text-align: center;\">Universidad Nacional Abierta y a Distancia – UNAD</h4><br>\n",
    "<h4 style=\"text-align: center;\">Fecha: 10/09/2023</h4><br>\n"
   ]
  },
  {
   "cell_type": "markdown",
   "id": "9928458b",
   "metadata": {},
   "source": []
  },
  {
   "cell_type": "markdown",
   "id": "4a003c7c",
   "metadata": {},
   "source": [
    "<h3><ul>Para este ejercicio, cargue de nuevo los datos del Ejercicio 1, pero\n",
    "genere un DataFrame llamado df, solamente con las columnas:\n",
    "    <li> type</li>\n",
    "    <li> mass_kg</li>\n",
    "<li> year_built</li>\n",
    "    <li> home_port</li>\n",
    "    <li> name</li>\n",
    " <ul>\n",
    "  </h3>\n"
   ]
  },
  {
   "cell_type": "code",
   "execution_count": 20,
   "id": "9548ea64",
   "metadata": {},
   "outputs": [
    {
     "name": "stdout",
     "output_type": "stream",
     "text": [
      "                type    mass_kg  year_built            home_port  \\\n",
      "0                Tug   266712.0      1976.0  Port of Los Angeles   \n",
      "1              Cargo        NaN         NaN  Port of Los Angeles   \n",
      "2              Cargo        NaN         NaN  Port of Los Angeles   \n",
      "3              Barge        NaN      2021.0       Port Canaveral   \n",
      "4                Tug   202302.0      1974.0  Port of Los Angeles   \n",
      "5                Tug   273063.0      1999.0       Port Canaveral   \n",
      "6   High Speed Craft   449964.0      2014.0       Port Canaveral   \n",
      "7   High Speed Craft   449964.0      2015.0       Port Canaveral   \n",
      "8              Cargo   451778.0      2009.0       Port Canaveral   \n",
      "9              Cargo   502999.0      2007.0       Port Canaveral   \n",
      "10             Cargo        NaN      2014.0       Port Canaveral   \n",
      "11             Cargo   450870.0      2010.0       Port Canaveral   \n",
      "12               Tug   508023.0      1995.0       Port Canaveral   \n",
      "13               Tug   320236.0      1985.0      Fort Lauderdale   \n",
      "14             Barge        NaN      2014.0       Port Canaveral   \n",
      "15             Barge        NaN      2015.0       Port Canaveral   \n",
      "16               Tug        NaN         NaN  Port of Los Angeles   \n",
      "17             Cargo   440892.0      2002.0  Port of Los Angeles   \n",
      "18             Barge        NaN      2015.0  Port of Los Angeles   \n",
      "19               Tug    89811.0      1976.0  Port of Los Angeles   \n",
      "20               Tug   351080.0      1974.0  Port of Los Angeles   \n",
      "21               Tug   312072.0      1976.0       Port Canaveral   \n",
      "22               Tug   843682.0      1975.0       Port Canaveral   \n",
      "23               Tug   741170.0      2003.0       Port Canaveral   \n",
      "24             Cargo  2097411.0      2014.0       Port Canaveral   \n",
      "25               Tug   445428.0      1944.0       Port Canaveral   \n",
      "26             Cargo  4616663.0      2015.0       Port Canaveral   \n",
      "27             Cargo  2719740.0      2009.0       Port Canaveral   \n",
      "28             Cargo  2719740.0      2009.0       Port Canaveral   \n",
      "\n",
      "                            name  \n",
      "0              American Champion  \n",
      "1              American Islander  \n",
      "2                American Spirit  \n",
      "3        A Shortfall of Gravitas  \n",
      "4             Betty R Gambarella  \n",
      "5                    Elsbeth III  \n",
      "6                    GO Ms Chief  \n",
      "7                     GO Ms Tree  \n",
      "8                        Shannon  \n",
      "9                     GO Pursuit  \n",
      "10                      GO Quest  \n",
      "11                         Megan  \n",
      "12                          HAWK  \n",
      "13                     Hollywood  \n",
      "14  Just Read The Instructions 1  \n",
      "15  Just Read The Instructions 2  \n",
      "16                       Kelly C  \n",
      "17                     NRC Quest  \n",
      "18    Of Course I Still Love You  \n",
      "19              Pacific Freeedom  \n",
      "20               Pacific Warrior  \n",
      "21                        RACHEL  \n",
      "22                  Finn Falgout  \n",
      "23                   Lauren Foss  \n",
      "24               Shelia Bordelon  \n",
      "25                     Mr. Jonah  \n",
      "26                 HOS Briarwood  \n",
      "27                          Doug  \n",
      "28                           Bob  \n"
     ]
    }
   ],
   "source": [
    "import requests\n",
    "import pandas as pd\n",
    "\n",
    "url = \"https://api.spacexdata.com/v4/ships\"\n",
    "response = requests.get(url)\n",
    "data = response.json()\n",
    "df_all_columns = pd.DataFrame.from_dict(data)\n",
    "# Seleccionar solo las columnas deseadas\n",
    "selected_columns = [\"type\", \"mass_kg\", \"year_built\",\"home_port\",\"name\"]\n",
    "df = df_all_columns[selected_columns]\n",
    "print(df)"
   ]
  },
  {
   "cell_type": "markdown",
   "id": "6c7b39d4",
   "metadata": {},
   "source": [
    "<h3>Determine cuantos datos faltantes hay en la variable mass_kg del\n",
    "mediante value_counts()</h3>"
   ]
  },
  {
   "cell_type": "code",
   "execution_count": 21,
   "id": "59e5f8aa",
   "metadata": {},
   "outputs": [
    {
     "name": "stdout",
     "output_type": "stream",
     "text": [
      "El número de datos faltantes es: 8\n"
     ]
    }
   ],
   "source": [
    "total = len(df)\n",
    "non_null_values = sum(df[\"mass_kg\"].value_counts().values)\n",
    "print(f\"El número de datos faltantes es: {total-non_null_values}\")"
   ]
  },
  {
   "cell_type": "markdown",
   "id": "eb99ab14",
   "metadata": {},
   "source": [
    "<h3>Crea un DataFrame df1 removiendo las filas que tienen algunos\n",
    "datos faltantes. Por otro lado crea un DataFrame df2 removiendo\n",
    "las filas que tienen todos los datos faltantes. Compáralos y\n",
    "comenta los resultados.</h3>"
   ]
  },
  {
   "cell_type": "code",
   "execution_count": 22,
   "id": "9e606bc3",
   "metadata": {},
   "outputs": [
    {
     "name": "stdout",
     "output_type": "stream",
     "text": [
      "     type  mass_kg  year_built            home_port  \\\n",
      "1   Cargo      NaN         NaN  Port of Los Angeles   \n",
      "2   Cargo      NaN         NaN  Port of Los Angeles   \n",
      "3   Barge      NaN      2021.0       Port Canaveral   \n",
      "10  Cargo      NaN      2014.0       Port Canaveral   \n",
      "14  Barge      NaN      2014.0       Port Canaveral   \n",
      "15  Barge      NaN      2015.0       Port Canaveral   \n",
      "16    Tug      NaN         NaN  Port of Los Angeles   \n",
      "18  Barge      NaN      2015.0  Port of Los Angeles   \n",
      "\n",
      "                            name  \n",
      "1              American Islander  \n",
      "2                American Spirit  \n",
      "3        A Shortfall of Gravitas  \n",
      "10                      GO Quest  \n",
      "14  Just Read The Instructions 1  \n",
      "15  Just Read The Instructions 2  \n",
      "16                       Kelly C  \n",
      "18    Of Course I Still Love You  \n",
      "Empty DataFrame\n",
      "Columns: [type, mass_kg, year_built, home_port, name]\n",
      "Index: []\n"
     ]
    }
   ],
   "source": [
    "df1 = df[df.isnull().any(axis=1)]\n",
    "df2 = df[df.isnull().all(axis=1)]\n",
    "print(df1)\n",
    "print(df2)"
   ]
  },
  {
   "cell_type": "markdown",
   "id": "e4108bf1",
   "metadata": {},
   "source": [
    "<h3> En el DataFrame df completa los datos faltantes por los siguientes\n",
    "tres métodos (muestra y comenta los resultados):\n",
    "    <ul>\n",
    "        <li>Completar datos faltantes con el número 0.</li>\n",
    "        <li>Completar por método de propagación hacia adelante.</li>\n",
    "        <li>Completar los valores faltantes con el promedio de la columna.</li>\n",
    "        </ul></h3>"
   ]
  },
  {
   "cell_type": "code",
   "execution_count": 38,
   "id": "d6d1d9b4",
   "metadata": {},
   "outputs": [
    {
     "name": "stdout",
     "output_type": "stream",
     "text": [
      "FILL WITH FORWARD ZERO:\n",
      "                type    mass_kg  year_built            home_port  \\\n",
      "0                Tug   266712.0      1976.0  Port of Los Angeles   \n",
      "1              Cargo        0.0         0.0  Port of Los Angeles   \n",
      "2              Cargo        0.0         0.0  Port of Los Angeles   \n",
      "3              Barge        0.0      2021.0       Port Canaveral   \n",
      "4                Tug   202302.0      1974.0  Port of Los Angeles   \n",
      "5                Tug   273063.0      1999.0       Port Canaveral   \n",
      "6   High Speed Craft   449964.0      2014.0       Port Canaveral   \n",
      "7   High Speed Craft   449964.0      2015.0       Port Canaveral   \n",
      "8              Cargo   451778.0      2009.0       Port Canaveral   \n",
      "9              Cargo   502999.0      2007.0       Port Canaveral   \n",
      "10             Cargo        0.0      2014.0       Port Canaveral   \n",
      "11             Cargo   450870.0      2010.0       Port Canaveral   \n",
      "12               Tug   508023.0      1995.0       Port Canaveral   \n",
      "13               Tug   320236.0      1985.0      Fort Lauderdale   \n",
      "14             Barge        0.0      2014.0       Port Canaveral   \n",
      "15             Barge        0.0      2015.0       Port Canaveral   \n",
      "16               Tug        0.0         0.0  Port of Los Angeles   \n",
      "17             Cargo   440892.0      2002.0  Port of Los Angeles   \n",
      "18             Barge        0.0      2015.0  Port of Los Angeles   \n",
      "19               Tug    89811.0      1976.0  Port of Los Angeles   \n",
      "20               Tug   351080.0      1974.0  Port of Los Angeles   \n",
      "21               Tug   312072.0      1976.0       Port Canaveral   \n",
      "22               Tug   843682.0      1975.0       Port Canaveral   \n",
      "23               Tug   741170.0      2003.0       Port Canaveral   \n",
      "24             Cargo  2097411.0      2014.0       Port Canaveral   \n",
      "25               Tug   445428.0      1944.0       Port Canaveral   \n",
      "26             Cargo  4616663.0      2015.0       Port Canaveral   \n",
      "27             Cargo  2719740.0      2009.0       Port Canaveral   \n",
      "28             Cargo  2719740.0      2009.0       Port Canaveral   \n",
      "\n",
      "                            name  \n",
      "0              American Champion  \n",
      "1              American Islander  \n",
      "2                American Spirit  \n",
      "3        A Shortfall of Gravitas  \n",
      "4             Betty R Gambarella  \n",
      "5                    Elsbeth III  \n",
      "6                    GO Ms Chief  \n",
      "7                     GO Ms Tree  \n",
      "8                        Shannon  \n",
      "9                     GO Pursuit  \n",
      "10                      GO Quest  \n",
      "11                         Megan  \n",
      "12                          HAWK  \n",
      "13                     Hollywood  \n",
      "14  Just Read The Instructions 1  \n",
      "15  Just Read The Instructions 2  \n",
      "16                       Kelly C  \n",
      "17                     NRC Quest  \n",
      "18    Of Course I Still Love You  \n",
      "19              Pacific Freeedom  \n",
      "20               Pacific Warrior  \n",
      "21                        RACHEL  \n",
      "22                  Finn Falgout  \n",
      "23                   Lauren Foss  \n",
      "24               Shelia Bordelon  \n",
      "25                     Mr. Jonah  \n",
      "26                 HOS Briarwood  \n",
      "27                          Doug  \n",
      "28                           Bob  \n",
      "FILL WITH FORWARD FILL:\n",
      "                type    mass_kg  year_built            home_port  \\\n",
      "0                Tug   266712.0      1976.0  Port of Los Angeles   \n",
      "1              Cargo   266712.0      1976.0  Port of Los Angeles   \n",
      "2              Cargo   266712.0      1976.0  Port of Los Angeles   \n",
      "3              Barge   266712.0      2021.0       Port Canaveral   \n",
      "4                Tug   202302.0      1974.0  Port of Los Angeles   \n",
      "5                Tug   273063.0      1999.0       Port Canaveral   \n",
      "6   High Speed Craft   449964.0      2014.0       Port Canaveral   \n",
      "7   High Speed Craft   449964.0      2015.0       Port Canaveral   \n",
      "8              Cargo   451778.0      2009.0       Port Canaveral   \n",
      "9              Cargo   502999.0      2007.0       Port Canaveral   \n",
      "10             Cargo   502999.0      2014.0       Port Canaveral   \n",
      "11             Cargo   450870.0      2010.0       Port Canaveral   \n",
      "12               Tug   508023.0      1995.0       Port Canaveral   \n",
      "13               Tug   320236.0      1985.0      Fort Lauderdale   \n",
      "14             Barge   320236.0      2014.0       Port Canaveral   \n",
      "15             Barge   320236.0      2015.0       Port Canaveral   \n",
      "16               Tug   320236.0      2015.0  Port of Los Angeles   \n",
      "17             Cargo   440892.0      2002.0  Port of Los Angeles   \n",
      "18             Barge   440892.0      2015.0  Port of Los Angeles   \n",
      "19               Tug    89811.0      1976.0  Port of Los Angeles   \n",
      "20               Tug   351080.0      1974.0  Port of Los Angeles   \n",
      "21               Tug   312072.0      1976.0       Port Canaveral   \n",
      "22               Tug   843682.0      1975.0       Port Canaveral   \n",
      "23               Tug   741170.0      2003.0       Port Canaveral   \n",
      "24             Cargo  2097411.0      2014.0       Port Canaveral   \n",
      "25               Tug   445428.0      1944.0       Port Canaveral   \n",
      "26             Cargo  4616663.0      2015.0       Port Canaveral   \n",
      "27             Cargo  2719740.0      2009.0       Port Canaveral   \n",
      "28             Cargo  2719740.0      2009.0       Port Canaveral   \n",
      "\n",
      "                            name  \n",
      "0              American Champion  \n",
      "1              American Islander  \n",
      "2                American Spirit  \n",
      "3        A Shortfall of Gravitas  \n",
      "4             Betty R Gambarella  \n",
      "5                    Elsbeth III  \n",
      "6                    GO Ms Chief  \n",
      "7                     GO Ms Tree  \n",
      "8                        Shannon  \n",
      "9                     GO Pursuit  \n",
      "10                      GO Quest  \n",
      "11                         Megan  \n",
      "12                          HAWK  \n",
      "13                     Hollywood  \n",
      "14  Just Read The Instructions 1  \n",
      "15  Just Read The Instructions 2  \n",
      "16                       Kelly C  \n",
      "17                     NRC Quest  \n",
      "18    Of Course I Still Love You  \n",
      "19              Pacific Freeedom  \n",
      "20               Pacific Warrior  \n",
      "21                        RACHEL  \n",
      "22                  Finn Falgout  \n",
      "23                   Lauren Foss  \n",
      "24               Shelia Bordelon  \n",
      "25                     Mr. Jonah  \n",
      "26                 HOS Briarwood  \n",
      "27                          Doug  \n",
      "28                           Bob  \n",
      "Ocurrió un error al intentar completar los valores faltantes: Could not convert ['TugCargoCargoBargeTugTugHigh Speed CraftHigh Speed CraftCargoCargoCargoCargoTugTugBargeBargeTugCargoBargeTugTugTugTugTugCargoTugCargoCargoCargo'\n",
      " 'Port of Los AngelesPort of Los AngelesPort of Los AngelesPort CanaveralPort of Los AngelesPort CanaveralPort CanaveralPort CanaveralPort CanaveralPort CanaveralPort CanaveralPort CanaveralPort CanaveralFort LauderdalePort CanaveralPort CanaveralPort of Los AngelesPort of Los AngelesPort of Los AngelesPort of Los AngelesPort of Los AngelesPort CanaveralPort CanaveralPort CanaveralPort CanaveralPort CanaveralPort CanaveralPort CanaveralPort Canaveral'\n",
      " 'American ChampionAmerican IslanderAmerican SpiritA Shortfall of GravitasBetty R GambarellaElsbeth IIIGO Ms ChiefGO Ms TreeShannonGO PursuitGO QuestMeganHAWKHollywoodJust Read The Instructions 1Just Read The Instructions 2Kelly CNRC QuestOf Course I Still Love YouPacific FreeedomPacific WarriorRACHELFinn FalgoutLauren FossShelia BordelonMr. JonahHOS BriarwoodDougBob'] to numeric\n"
     ]
    }
   ],
   "source": [
    "fill_zero = lambda df_: df_.fillna(0)\n",
    "fill_forward = lambda df_: df_.fillna(method='ffill')\n",
    "fill_mean = lambda df_: df_.fillna(df.mean())\n",
    "def fill_nulls(df_, method_, message_):\n",
    "    try:\n",
    "        df_filled_null = method_(df_)\n",
    "        print(message_)\n",
    "        print(df_filled_null)\n",
    "    except Exception as e:\n",
    "        print(\"Ocurrió un error al intentar completar los valores faltantes:\", e)\n",
    "fill_nulls(df, fill_zero,\"FILL WITH FORWARD ZERO:\")\n",
    "fill_nulls(df, fill_forward,\"FILL WITH FORWARD FILL:\")\n",
    "fill_nulls(df, fill_mean,\"FILL WITH MEAN:\")"
   ]
  },
  {
   "cell_type": "markdown",
   "id": "cf105cf9",
   "metadata": {},
   "source": [
    "<h3>Determine cuantas columnas tiene el DataFrame anterior, los\n",
    "tipos de datos (Dtype) que tiene y los datos ausentes (ayuda:\n",
    "imprima el info() del DataFrame de pandas).</h3>"
   ]
  },
  {
   "cell_type": "code",
   "execution_count": 5,
   "id": "33d3d741",
   "metadata": {
    "scrolled": true
   },
   "outputs": [
    {
     "name": "stdout",
     "output_type": "stream",
     "text": [
      "<class 'pandas.core.frame.DataFrame'>\n",
      "RangeIndex: 29 entries, 0 to 28\n",
      "Data columns (total 24 columns):\n",
      " #   Column           Non-Null Count  Dtype  \n",
      "---  ------           --------------  -----  \n",
      " 0   last_ais_update  0 non-null      object \n",
      " 1   legacy_id        22 non-null     object \n",
      " 2   model            3 non-null      object \n",
      " 3   type             29 non-null     object \n",
      " 4   roles            29 non-null     object \n",
      " 5   imo              21 non-null     float64\n",
      " 6   mmsi             24 non-null     float64\n",
      " 7   abs              18 non-null     float64\n",
      " 8   class            18 non-null     float64\n",
      " 9   mass_kg          21 non-null     float64\n",
      " 10  mass_lbs         21 non-null     float64\n",
      " 11  year_built       26 non-null     float64\n",
      " 12  home_port        29 non-null     object \n",
      " 13  status           17 non-null     object \n",
      " 14  speed_kn         0 non-null      object \n",
      " 15  course_deg       0 non-null      object \n",
      " 16  latitude         2 non-null      float64\n",
      " 17  longitude        2 non-null      float64\n",
      " 18  link             24 non-null     object \n",
      " 19  image            26 non-null     object \n",
      " 20  name             29 non-null     object \n",
      " 21  active           29 non-null     bool   \n",
      " 22  launches         29 non-null     object \n",
      " 23  id               29 non-null     object \n",
      "dtypes: bool(1), float64(9), object(14)\n",
      "memory usage: 5.4+ KB\n",
      "None\n"
     ]
    }
   ],
   "source": [
    "print(df.info())"
   ]
  },
  {
   "cell_type": "markdown",
   "id": "291af0f5",
   "metadata": {},
   "source": [
    "<h3>Con la información anterior, en una celda markdown concluya\n",
    "cuales de las variables podrían ser utilizadas para un análisis y\n",
    "clasifíquelas entre variables cualitativas (categóricas) y\n",
    "cuantitativas (numéricas).</h3>"
   ]
  },
  {
   "cell_type": "markdown",
   "id": "f8021077",
   "metadata": {},
   "source": [
    "Hay un total de 9 variables cuantitativas: imo,  mmsi,   abs,  class,   mass_kg, mass_lbs, year_built, latitude,  longitude.\n",
    "Y además hay un total de 19 variables cualitativas: last_ais_update,legacy_id,model, type, roles, home_port, status, speed_kn, course_deg, link, image, name, active, launches, id."
   ]
  },
  {
   "cell_type": "markdown",
   "id": "78d47bb3",
   "metadata": {},
   "source": [
    "<h3>Determine el total de naves y cuántas están activas.</h3>"
   ]
  },
  {
   "cell_type": "code",
   "execution_count": 52,
   "id": "64b1adc1",
   "metadata": {},
   "outputs": [
    {
     "name": "stdout",
     "output_type": "stream",
     "text": [
      "Total ships are: 14\n",
      "Total active ships are: 10\n"
     ]
    }
   ],
   "source": [
    "#print(df.iloc[0]['roles'])\n",
    "#print(len([rol for rol in df.iloc[0]['roles'] if 'ship' in rol.lower()])>0)\n",
    "df['is_ship']=df['roles'].apply(lambda roles: any('ship' in rol.lower() for rol in roles))\n",
    "ships = df[df['is_ship']]\n",
    "total_ships = len(ships)\n",
    "print(f\"Total ships are: {total_ships}\")\n",
    "total_active = len(ships[ships['active']==True])\n",
    "print(f\"Total active ships are: {total_active}\")"
   ]
  },
  {
   "cell_type": "markdown",
   "id": "9e42073c",
   "metadata": {},
   "source": [
    "<h3>Visualice el histograma de los pesos de las naves en kg</h3>"
   ]
  },
  {
   "cell_type": "code",
   "execution_count": 54,
   "id": "eec41a98",
   "metadata": {
    "scrolled": true
   },
   "outputs": [
    {
     "data": {
      "image/png": "[encoded data removed]",
      "text/plain": [
       "<Figure size 640x480 with 1 Axes>"
      ]
     },
     "metadata": {},
     "output_type": "display_data"
    }
   ],
   "source": [
    "import matplotlib.pyplot as plt\n",
    "import matplotlib.ticker as mticker\n",
    "n, bins, _ = plt.hist(df[df['mass_kg']>0]['mass_kg'], bins=[0, 1000000, 2000000, 3000000, 4000000, 5000000], edgecolor=\"k\", label='ship weight')\n",
    "\n",
    "# Añadir las frecuencias encima de cada columna\n",
    "for i in range(len(n)):\n",
    "    plt.text((bins[i] + bins[i+1]) / 2, n[i] + 0.5, str(int(n[i])), ha='center', va='center')\n",
    "\n",
    "\n",
    "formatter = mticker.ScalarFormatter(useMathText=False)\n",
    "formatter.set_scientific(False)\n",
    "plt.gca().xaxis.set_major_formatter(formatter)\n",
    "# Añadir título, etiquetas y leyenda\n",
    "plt.title('Histogramas del peso de las naves en kilogramos')\n",
    "plt.xlabel('weight(in kgs)')\n",
    "plt.ylabel('frequency')\n",
    "plt.legend()\n",
    "plt.show()"
   ]
  },
  {
   "cell_type": "markdown",
   "id": "e322c998",
   "metadata": {},
   "source": [
    "<h3>Conclusiones</h3>\n",
    "<ul>\n",
    "    <li>De los 21 tipos de barcos, el 80.95% tiene una masa de menos de 1 millón de kilogramos, y solo un barco supera los 4 millones de kilogramos en su masa.</li>\n",
    "    <li>la data que se obtiene del edpoint de spacex tiene 28 filas y 24 columnas. De esas 24 columnas 9 son variables cuantitativas y dos son listas, una es la lista de roles y la otra es la lista de lanzamientos.</li>\n",
    "</ul>"
   ]
  },
  {
   "cell_type": "markdown",
   "id": "370015cf",
   "metadata": {},
   "source": [
    "<h3>Bibliografía</h3>\n",
    "<ul>\n",
    "<li>Alex Galea. (2018). Applied Data Science with Python and Jupyter: Use Powerful Industry-standard Tools to Unlock New, Actionable Insights From Your Data: Vol. 1st edition.</li>\n",
    "<li>Boschetti, A., & Massaron, L. (2016). Python Data Science Essentials - Second Edition (Vol. 0002).</li>\n",
    "<li>Samir Madhavan. (2015). Mastering Python for Data Science: Explore the World of Data Science Through Python and Learn How to Make Sense of Data.</li>\n",
    "<li>Vargas, M. (2022). Carga de datos en Python desde un archivo Excel. UNAD. [OVI]</li>\n",
    "<li>McKinney, W. (2015). Pandas, python data analysis library. URL http://pandas. pydata. org, 3-15.</li>\n",
    "</ul>"
   ]
  },
  {
   "cell_type": "code",
   "execution_count": null,
   "id": "23b7f1d7",
   "metadata": {},
   "outputs": [],
   "source": []
  }
 ],
 "metadata": {
  "kernelspec": {
   "display_name": "Python 3 (ipykernel)",
   "language": "python",
   "name": "python3"
  },
  "language_info": {
   "codemirror_mode": {
    "name": "ipython",
    "version": 3
   },
   "file_extension": ".py",
   "mimetype": "text/x-python",
   "name": "python",
   "nbconvert_exporter": "python",
   "pygments_lexer": "ipython3",
   "version": "3.8.12"
  }
 },
 "nbformat": 4,
 "nbformat_minor": 5
}
