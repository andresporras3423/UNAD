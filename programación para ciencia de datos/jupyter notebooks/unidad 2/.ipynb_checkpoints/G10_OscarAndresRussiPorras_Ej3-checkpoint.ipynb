{
 "cells": [
  {
   "cell_type": "markdown",
   "id": "ee1af613",
   "metadata": {},
   "source": [
    "<h4 style=\"text-align: center;\"> Curso: Programación para el análisis de datos</h4><br>\n",
    "<h4 style=\"text-align: center;\">Tarea: Unidad 1 - ejercicio 1</h4><br>\n",
    "<h4 style=\"text-align: center;\">Presentado por: Oscar Andrés Russi Porras</h4><br>\n",
    "<h4 style=\"text-align: center;\">Grupo: 10</h4><br>\n",
    "<h4 style=\"text-align: center;\">Código: 1018436442</h4><br>\n",
    "<h4 style=\"text-align: center;\">Presentado a: Felipe Alexander Pipicano Guzmán</h4><br>\n",
    "<h4 style=\"text-align: center;\">Universidad Nacional Abierta y a Distancia – UNAD</h4><br>\n",
    "<h4 style=\"text-align: center;\">Fecha: 10/09/2023</h4><br>\n"
   ]
  },
  {
   "cell_type": "markdown",
   "id": "9928458b",
   "metadata": {},
   "source": []
  },
  {
   "cell_type": "markdown",
   "id": "4a003c7c",
   "metadata": {},
   "source": [
    "<h3>\n",
    "    Para este ejercicio, cargue en la variable df el conjunto de datos que\n",
    "se presentan en el archivo CSV, Anexo 1 - Student Weight Status.csv,\n",
    "que se encuentra en la carpeta de la Unidad 2 - Tarea 2 -\n",
    "Programación para la Manipulación de Datos. Tenga en cuenta el tipo\n",
    "de separador y los encabezados de las columnas.\n",
    "  </h3>\n"
   ]
  },
  {
   "cell_type": "code",
   "execution_count": 1,
   "id": "9548ea64",
   "metadata": {},
   "outputs": [
    {
     "data": {
      "text/html": [
       "<div>\n",
       "<style scoped>\n",
       "    .dataframe tbody tr th:only-of-type {\n",
       "        vertical-align: middle;\n",
       "    }\n",
       "\n",
       "    .dataframe tbody tr th {\n",
       "        vertical-align: top;\n",
       "    }\n",
       "\n",
       "    .dataframe thead th {\n",
       "        text-align: right;\n",
       "    }\n",
       "</style>\n",
       "<table border=\"1\" class=\"dataframe\">\n",
       "  <thead>\n",
       "    <tr style=\"text-align: right;\">\n",
       "      <th></th>\n",
       "      <th>LOCATION CODE</th>\n",
       "      <th>COUNTY</th>\n",
       "      <th>AREA NAME</th>\n",
       "      <th>REGION</th>\n",
       "      <th>SCHOOL YEARS</th>\n",
       "      <th>NO. OVERWEIGHT</th>\n",
       "      <th>PCT OVERWEIGHT</th>\n",
       "      <th>NO. OBESE</th>\n",
       "      <th>PCT OBESE</th>\n",
       "      <th>NO. OVERWEIGHT OR OBESE</th>\n",
       "      <th>PCT OVERWEIGHT OR OBESE</th>\n",
       "      <th>GRADE LEVEL</th>\n",
       "      <th>AREA TYPE</th>\n",
       "      <th>STREET ADDRESS</th>\n",
       "      <th>CITY</th>\n",
       "      <th>STATE</th>\n",
       "      <th>ZIP CODE</th>\n",
       "      <th>LATITUDE</th>\n",
       "      <th>LONGITUDE</th>\n",
       "      <th>Location 1</th>\n",
       "    </tr>\n",
       "  </thead>\n",
       "  <tbody>\n",
       "    <tr>\n",
       "      <th>0</th>\n",
       "      <td>4</td>\n",
       "      <td>CATTARAUGUS</td>\n",
       "      <td>CATTARAUGUS</td>\n",
       "      <td>WESTERN NEW YORK</td>\n",
       "      <td>2010-2012</td>\n",
       "      <td>575.0</td>\n",
       "      <td>18.4</td>\n",
       "      <td>565.0</td>\n",
       "      <td>18.1</td>\n",
       "      <td>1140.0</td>\n",
       "      <td>36.5</td>\n",
       "      <td>ELEMENTARY</td>\n",
       "      <td>COUNTY</td>\n",
       "      <td>NaN</td>\n",
       "      <td>NaN</td>\n",
       "      <td>NaN</td>\n",
       "      <td>NaN</td>\n",
       "      <td>NaN</td>\n",
       "      <td>NaN</td>\n",
       "      <td>NaN</td>\n",
       "    </tr>\n",
       "    <tr>\n",
       "      <th>1</th>\n",
       "      <td>4</td>\n",
       "      <td>CATTARAUGUS</td>\n",
       "      <td>CATTARAUGUS</td>\n",
       "      <td>WESTERN NEW YORK</td>\n",
       "      <td>2010-2012</td>\n",
       "      <td>380.0</td>\n",
       "      <td>19.4</td>\n",
       "      <td>416.0</td>\n",
       "      <td>21.3</td>\n",
       "      <td>796.0</td>\n",
       "      <td>40.7</td>\n",
       "      <td>MIDDLE/HIGH</td>\n",
       "      <td>COUNTY</td>\n",
       "      <td>NaN</td>\n",
       "      <td>NaN</td>\n",
       "      <td>NaN</td>\n",
       "      <td>NaN</td>\n",
       "      <td>NaN</td>\n",
       "      <td>NaN</td>\n",
       "      <td>NaN</td>\n",
       "    </tr>\n",
       "    <tr>\n",
       "      <th>2</th>\n",
       "      <td>4</td>\n",
       "      <td>CATTARAUGUS</td>\n",
       "      <td>CATTARAUGUS</td>\n",
       "      <td>WESTERN NEW YORK</td>\n",
       "      <td>2012-2014</td>\n",
       "      <td>873.0</td>\n",
       "      <td>17.2</td>\n",
       "      <td>994.0</td>\n",
       "      <td>19.6</td>\n",
       "      <td>1867.0</td>\n",
       "      <td>36.9</td>\n",
       "      <td>DISTRICT TOTAL</td>\n",
       "      <td>COUNTY</td>\n",
       "      <td>NaN</td>\n",
       "      <td>NaN</td>\n",
       "      <td>NaN</td>\n",
       "      <td>NaN</td>\n",
       "      <td>NaN</td>\n",
       "      <td>NaN</td>\n",
       "      <td>NaN</td>\n",
       "    </tr>\n",
       "    <tr>\n",
       "      <th>3</th>\n",
       "      <td>4</td>\n",
       "      <td>CATTARAUGUS</td>\n",
       "      <td>CATTARAUGUS</td>\n",
       "      <td>WESTERN NEW YORK</td>\n",
       "      <td>2012-2014</td>\n",
       "      <td>551.0</td>\n",
       "      <td>17.2</td>\n",
       "      <td>571.0</td>\n",
       "      <td>17.8</td>\n",
       "      <td>1122.0</td>\n",
       "      <td>35.0</td>\n",
       "      <td>ELEMENTARY</td>\n",
       "      <td>COUNTY</td>\n",
       "      <td>NaN</td>\n",
       "      <td>NaN</td>\n",
       "      <td>NaN</td>\n",
       "      <td>NaN</td>\n",
       "      <td>NaN</td>\n",
       "      <td>NaN</td>\n",
       "      <td>NaN</td>\n",
       "    </tr>\n",
       "    <tr>\n",
       "      <th>4</th>\n",
       "      <td>4</td>\n",
       "      <td>CATTARAUGUS</td>\n",
       "      <td>CATTARAUGUS</td>\n",
       "      <td>WESTERN NEW YORK</td>\n",
       "      <td>2012-2014</td>\n",
       "      <td>292.0</td>\n",
       "      <td>16.0</td>\n",
       "      <td>413.0</td>\n",
       "      <td>22.6</td>\n",
       "      <td>705.0</td>\n",
       "      <td>38.6</td>\n",
       "      <td>MIDDLE/HIGH</td>\n",
       "      <td>COUNTY</td>\n",
       "      <td>NaN</td>\n",
       "      <td>NaN</td>\n",
       "      <td>NaN</td>\n",
       "      <td>NaN</td>\n",
       "      <td>NaN</td>\n",
       "      <td>NaN</td>\n",
       "      <td>NaN</td>\n",
       "    </tr>\n",
       "    <tr>\n",
       "      <th>...</th>\n",
       "      <td>...</td>\n",
       "      <td>...</td>\n",
       "      <td>...</td>\n",
       "      <td>...</td>\n",
       "      <td>...</td>\n",
       "      <td>...</td>\n",
       "      <td>...</td>\n",
       "      <td>...</td>\n",
       "      <td>...</td>\n",
       "      <td>...</td>\n",
       "      <td>...</td>\n",
       "      <td>...</td>\n",
       "      <td>...</td>\n",
       "      <td>...</td>\n",
       "      <td>...</td>\n",
       "      <td>...</td>\n",
       "      <td>...</td>\n",
       "      <td>...</td>\n",
       "      <td>...</td>\n",
       "      <td>...</td>\n",
       "    </tr>\n",
       "    <tr>\n",
       "      <th>8917</th>\n",
       "      <td>700000</td>\n",
       "      <td>NaN</td>\n",
       "      <td>WESTERN NEW YORK</td>\n",
       "      <td>WESTERN NEW YORK</td>\n",
       "      <td>2014-2016</td>\n",
       "      <td>6080.0</td>\n",
       "      <td>16.3</td>\n",
       "      <td>5712.0</td>\n",
       "      <td>15.3</td>\n",
       "      <td>11792.0</td>\n",
       "      <td>31.6</td>\n",
       "      <td>ELEMENTARY</td>\n",
       "      <td>REGION</td>\n",
       "      <td>NaN</td>\n",
       "      <td>NaN</td>\n",
       "      <td>NaN</td>\n",
       "      <td>NaN</td>\n",
       "      <td>NaN</td>\n",
       "      <td>NaN</td>\n",
       "      <td>NaN</td>\n",
       "    </tr>\n",
       "    <tr>\n",
       "      <th>8918</th>\n",
       "      <td>700000</td>\n",
       "      <td>NaN</td>\n",
       "      <td>WESTERN NEW YORK</td>\n",
       "      <td>WESTERN NEW YORK</td>\n",
       "      <td>2014-2016</td>\n",
       "      <td>4495.0</td>\n",
       "      <td>17.8</td>\n",
       "      <td>4958.0</td>\n",
       "      <td>19.7</td>\n",
       "      <td>9453.0</td>\n",
       "      <td>37.6</td>\n",
       "      <td>MIDDLE/HIGH</td>\n",
       "      <td>REGION</td>\n",
       "      <td>NaN</td>\n",
       "      <td>NaN</td>\n",
       "      <td>NaN</td>\n",
       "      <td>NaN</td>\n",
       "      <td>NaN</td>\n",
       "      <td>NaN</td>\n",
       "      <td>NaN</td>\n",
       "    </tr>\n",
       "    <tr>\n",
       "      <th>8919</th>\n",
       "      <td>700000</td>\n",
       "      <td>NaN</td>\n",
       "      <td>WESTERN NEW YORK</td>\n",
       "      <td>WESTERN NEW YORK</td>\n",
       "      <td>2016-2018</td>\n",
       "      <td>10422.0</td>\n",
       "      <td>16.3</td>\n",
       "      <td>11206.0</td>\n",
       "      <td>17.5</td>\n",
       "      <td>21628.0</td>\n",
       "      <td>33.8</td>\n",
       "      <td>DISTRICT TOTAL</td>\n",
       "      <td>REGION</td>\n",
       "      <td>NaN</td>\n",
       "      <td>NaN</td>\n",
       "      <td>NaN</td>\n",
       "      <td>NaN</td>\n",
       "      <td>NaN</td>\n",
       "      <td>NaN</td>\n",
       "      <td>NaN</td>\n",
       "    </tr>\n",
       "    <tr>\n",
       "      <th>8920</th>\n",
       "      <td>700000</td>\n",
       "      <td>NaN</td>\n",
       "      <td>WESTERN NEW YORK</td>\n",
       "      <td>WESTERN NEW YORK</td>\n",
       "      <td>2016-2018</td>\n",
       "      <td>6089.0</td>\n",
       "      <td>15.7</td>\n",
       "      <td>6118.0</td>\n",
       "      <td>15.8</td>\n",
       "      <td>12207.0</td>\n",
       "      <td>31.6</td>\n",
       "      <td>ELEMENTARY</td>\n",
       "      <td>REGION</td>\n",
       "      <td>NaN</td>\n",
       "      <td>NaN</td>\n",
       "      <td>NaN</td>\n",
       "      <td>NaN</td>\n",
       "      <td>NaN</td>\n",
       "      <td>NaN</td>\n",
       "      <td>NaN</td>\n",
       "    </tr>\n",
       "    <tr>\n",
       "      <th>8921</th>\n",
       "      <td>700000</td>\n",
       "      <td>NaN</td>\n",
       "      <td>WESTERN NEW YORK</td>\n",
       "      <td>WESTERN NEW YORK</td>\n",
       "      <td>2016-2018</td>\n",
       "      <td>4224.0</td>\n",
       "      <td>17.2</td>\n",
       "      <td>5061.0</td>\n",
       "      <td>20.7</td>\n",
       "      <td>9285.0</td>\n",
       "      <td>37.9</td>\n",
       "      <td>MIDDLE/HIGH</td>\n",
       "      <td>REGION</td>\n",
       "      <td>NaN</td>\n",
       "      <td>NaN</td>\n",
       "      <td>NaN</td>\n",
       "      <td>NaN</td>\n",
       "      <td>NaN</td>\n",
       "      <td>NaN</td>\n",
       "      <td>NaN</td>\n",
       "    </tr>\n",
       "  </tbody>\n",
       "</table>\n",
       "<p>8922 rows × 20 columns</p>\n",
       "</div>"
      ],
      "text/plain": [
       "      LOCATION CODE       COUNTY         AREA NAME            REGION  \\\n",
       "0                 4  CATTARAUGUS       CATTARAUGUS  WESTERN NEW YORK   \n",
       "1                 4  CATTARAUGUS       CATTARAUGUS  WESTERN NEW YORK   \n",
       "2                 4  CATTARAUGUS       CATTARAUGUS  WESTERN NEW YORK   \n",
       "3                 4  CATTARAUGUS       CATTARAUGUS  WESTERN NEW YORK   \n",
       "4                 4  CATTARAUGUS       CATTARAUGUS  WESTERN NEW YORK   \n",
       "...             ...          ...               ...               ...   \n",
       "8917         700000          NaN  WESTERN NEW YORK  WESTERN NEW YORK   \n",
       "8918         700000          NaN  WESTERN NEW YORK  WESTERN NEW YORK   \n",
       "8919         700000          NaN  WESTERN NEW YORK  WESTERN NEW YORK   \n",
       "8920         700000          NaN  WESTERN NEW YORK  WESTERN NEW YORK   \n",
       "8921         700000          NaN  WESTERN NEW YORK  WESTERN NEW YORK   \n",
       "\n",
       "     SCHOOL YEARS  NO. OVERWEIGHT  PCT OVERWEIGHT  NO. OBESE  PCT OBESE  \\\n",
       "0       2010-2012           575.0            18.4      565.0       18.1   \n",
       "1       2010-2012           380.0            19.4      416.0       21.3   \n",
       "2       2012-2014           873.0            17.2      994.0       19.6   \n",
       "3       2012-2014           551.0            17.2      571.0       17.8   \n",
       "4       2012-2014           292.0            16.0      413.0       22.6   \n",
       "...           ...             ...             ...        ...        ...   \n",
       "8917    2014-2016          6080.0            16.3     5712.0       15.3   \n",
       "8918    2014-2016          4495.0            17.8     4958.0       19.7   \n",
       "8919    2016-2018         10422.0            16.3    11206.0       17.5   \n",
       "8920    2016-2018          6089.0            15.7     6118.0       15.8   \n",
       "8921    2016-2018          4224.0            17.2     5061.0       20.7   \n",
       "\n",
       "      NO. OVERWEIGHT OR OBESE  PCT OVERWEIGHT OR OBESE     GRADE LEVEL  \\\n",
       "0                      1140.0                     36.5      ELEMENTARY   \n",
       "1                       796.0                     40.7     MIDDLE/HIGH   \n",
       "2                      1867.0                     36.9  DISTRICT TOTAL   \n",
       "3                      1122.0                     35.0      ELEMENTARY   \n",
       "4                       705.0                     38.6     MIDDLE/HIGH   \n",
       "...                       ...                      ...             ...   \n",
       "8917                  11792.0                     31.6      ELEMENTARY   \n",
       "8918                   9453.0                     37.6     MIDDLE/HIGH   \n",
       "8919                  21628.0                     33.8  DISTRICT TOTAL   \n",
       "8920                  12207.0                     31.6      ELEMENTARY   \n",
       "8921                   9285.0                     37.9     MIDDLE/HIGH   \n",
       "\n",
       "     AREA TYPE STREET ADDRESS CITY STATE  ZIP CODE  LATITUDE  LONGITUDE  \\\n",
       "0       COUNTY            NaN  NaN   NaN       NaN       NaN        NaN   \n",
       "1       COUNTY            NaN  NaN   NaN       NaN       NaN        NaN   \n",
       "2       COUNTY            NaN  NaN   NaN       NaN       NaN        NaN   \n",
       "3       COUNTY            NaN  NaN   NaN       NaN       NaN        NaN   \n",
       "4       COUNTY            NaN  NaN   NaN       NaN       NaN        NaN   \n",
       "...        ...            ...  ...   ...       ...       ...        ...   \n",
       "8917    REGION            NaN  NaN   NaN       NaN       NaN        NaN   \n",
       "8918    REGION            NaN  NaN   NaN       NaN       NaN        NaN   \n",
       "8919    REGION            NaN  NaN   NaN       NaN       NaN        NaN   \n",
       "8920    REGION            NaN  NaN   NaN       NaN       NaN        NaN   \n",
       "8921    REGION            NaN  NaN   NaN       NaN       NaN        NaN   \n",
       "\n",
       "     Location 1  \n",
       "0           NaN  \n",
       "1           NaN  \n",
       "2           NaN  \n",
       "3           NaN  \n",
       "4           NaN  \n",
       "...         ...  \n",
       "8917        NaN  \n",
       "8918        NaN  \n",
       "8919        NaN  \n",
       "8920        NaN  \n",
       "8921        NaN  \n",
       "\n",
       "[8922 rows x 20 columns]"
      ]
     },
     "execution_count": 1,
     "metadata": {},
     "output_type": "execute_result"
    }
   ],
   "source": [
    "import requests\n",
    "import pandas as pd\n",
    "\n",
    "csv_file_path = r\"Anexo 1 - Student Weight Status.csv\" # csv file path\n",
    "df = pd.read_csv(csv_file_path)  # read table in csv file\n",
    "df"
   ]
  },
  {
   "cell_type": "markdown",
   "id": "d33a338e",
   "metadata": {},
   "source": [
    "<h3>Realice paso a paso las siguientes tareas, siguiendo lo estudiando en\n",
    "las referencias:\n",
    "    <ul>\n",
    "        <li>Fusionando datos:Cree un DataFrame p1 con los datos del 0 al 1 con las columnas\n",
    "'area_name' y 'county' de df.</li>\n",
    "        <li>Creen un DataFrame p2 con los datos del 2 al 4 con las\n",
    "columnas 'area_name' y 'county' de df.</li>\n",
    "        <li>Concatene p1 y p2 y muestre los resultados.</li>\n",
    "    </ul>\n",
    "</h3>"
   ]
  },
  {
   "cell_type": "code",
   "execution_count": 17,
   "id": "12589f74",
   "metadata": {},
   "outputs": [
    {
     "name": "stdout",
     "output_type": "stream",
     "text": [
      "     AREA NAME       COUNTY\n",
      "0  CATTARAUGUS  CATTARAUGUS\n",
      "1  CATTARAUGUS  CATTARAUGUS\n",
      "2  CATTARAUGUS  CATTARAUGUS\n",
      "3  CATTARAUGUS  CATTARAUGUS\n",
      "4  CATTARAUGUS  CATTARAUGUS\n",
      "['ELEMENTARY' 'MIDDLE/HIGH' 'DISTRICT TOTAL']\n"
     ]
    }
   ],
   "source": [
    "p1 = df[['AREA NAME', 'COUNTY']][0:2]\n",
    "p2 = df[['AREA NAME', 'COUNTY']][2:5]\n",
    "print(pd.concat([p1,p2]))"
   ]
  },
  {
   "cell_type": "markdown",
   "id": "f4887163",
   "metadata": {},
   "source": [
    "<h3>Concatene p1 y p2 identificando las asignaciones por las llaves\n",
    "‘p1’ y ‘p2’ y muestre los resultados y asígnelos a la variable\n",
    "concatened. Comente las diferencias con el DataFrame anterior\n",
    "y mencione desde su punto de vista las posibles utilidades de\n",
    "esta herramienta.</h3>"
   ]
  },
  {
   "cell_type": "code",
   "execution_count": 7,
   "id": "0176d5c2",
   "metadata": {},
   "outputs": [
    {
     "name": "stdout",
     "output_type": "stream",
     "text": [
      "        AREA NAME       COUNTY\n",
      "p1 0  CATTARAUGUS  CATTARAUGUS\n",
      "   1  CATTARAUGUS  CATTARAUGUS\n",
      "p2 2  CATTARAUGUS  CATTARAUGUS\n",
      "   3  CATTARAUGUS  CATTARAUGUS\n",
      "   4  CATTARAUGUS  CATTARAUGUS\n"
     ]
    }
   ],
   "source": [
    "concatenated = pd.concat([p1,p2], keys = ['p1','p2'])\n",
    "print(concatenated)"
   ]
  },
  {
   "cell_type": "markdown",
   "id": "e4108bf1",
   "metadata": {},
   "source": [
    "<h3>Desde el DataFrame concatened rescate los datos de p1.</h3>"
   ]
  },
  {
   "cell_type": "code",
   "execution_count": 9,
   "id": "d6d1d9b4",
   "metadata": {},
   "outputs": [
    {
     "name": "stdout",
     "output_type": "stream",
     "text": [
      "     AREA NAME       COUNTY\n",
      "0  CATTARAUGUS  CATTARAUGUS\n",
      "1  CATTARAUGUS  CATTARAUGUS\n"
     ]
    }
   ],
   "source": [
    "print(concatenated.loc['p1'])"
   ]
  },
  {
   "cell_type": "markdown",
   "id": "cf105cf9",
   "metadata": {},
   "source": [
    "<h3>Operaciones de agregación:\n",
    " <ul><li>Encuentre el número promedio de estudiantes que son obesos\n",
    "     en escuelas de primaria (tipo ‘ELEMENTARY’).</li></ul>\n",
    "</h3>"
   ]
  },
  {
   "cell_type": "code",
   "execution_count": 10,
   "id": "33d3d741",
   "metadata": {
    "scrolled": true
   },
   "outputs": [
    {
     "name": "stdout",
     "output_type": "stream",
     "text": [
      "275.78676207513416\n"
     ]
    }
   ],
   "source": [
    "elementary_students = df[df['GRADE LEVEL'] == 'ELEMENTARY']\n",
    "print(elementary_students['NO. OBESE'].mean())"
   ]
  },
  {
   "cell_type": "markdown",
   "id": "291af0f5",
   "metadata": {},
   "source": [
    "<h3>Encuentre el número total de estudiantes de primaria que son\n",
    "obesos.\n",
    "</h3>"
   ]
  },
  {
   "cell_type": "code",
   "execution_count": 13,
   "id": "c3119a79",
   "metadata": {
    "scrolled": true
   },
   "outputs": [
    {
     "name": "stdout",
     "output_type": "stream",
     "text": [
      "770824.0\n"
     ]
    }
   ],
   "source": [
    "print(elementary_students['NO. OBESE'].sum())"
   ]
  },
  {
   "cell_type": "markdown",
   "id": "78d47bb3",
   "metadata": {},
   "source": [
    "<h3>Encuentre el número máximo de estudiantes obsesos que tiene\n",
    "una escuela.</h3>"
   ]
  },
  {
   "cell_type": "code",
   "execution_count": 27,
   "id": "64b1adc1",
   "metadata": {},
   "outputs": [
    {
     "name": "stdout",
     "output_type": "stream",
     "text": [
      "49140.0\n"
     ]
    }
   ],
   "source": [
    "middle_students = df[df['GRADE LEVEL'] == 'ELEMENTARY']\n",
    "all_school = pd.concat([elementary_students,middle_students])\n",
    "print(all_school['NO. OBESE'].max())"
   ]
  },
  {
   "cell_type": "markdown",
   "id": "9e42073c",
   "metadata": {},
   "source": [
    "<h3>Encuentre el número mínimo de estudiantes obsesos que tiene\n",
    "una escuela</h3>"
   ]
  },
  {
   "cell_type": "code",
   "execution_count": 19,
   "id": "eec41a98",
   "metadata": {
    "scrolled": true
   },
   "outputs": [
    {
     "name": "stdout",
     "output_type": "stream",
     "text": [
      "5.0\n"
     ]
    }
   ],
   "source": [
    "print(all_school['NO. OBESE'].min())"
   ]
  },
  {
   "cell_type": "markdown",
   "id": "a112fe9f",
   "metadata": {},
   "source": [
    "<h3>Obtenga la desviación estándar del número de estudiantes\n",
    "obsesos en las escuelas..</h3>"
   ]
  },
  {
   "cell_type": "code",
   "execution_count": 20,
   "id": "2b15dbda",
   "metadata": {},
   "outputs": [
    {
     "name": "stdout",
     "output_type": "stream",
     "text": [
      "2020.9439943613067\n"
     ]
    }
   ],
   "source": [
    "print(all_school['NO. OBESE'].std())"
   ]
  },
  {
   "cell_type": "markdown",
   "id": "e0159269",
   "metadata": {},
   "source": [
    "<h3>Obtenga la cantidad de escuelas de primarias en el condado\n",
    "(county) de DELAWARE.</h3>"
   ]
  },
  {
   "cell_type": "code",
   "execution_count": 25,
   "id": "72400902",
   "metadata": {},
   "outputs": [
    {
     "name": "stdout",
     "output_type": "stream",
     "text": [
      "52\n"
     ]
    }
   ],
   "source": [
    "print(len(elementary_students[elementary_students['COUNTY']=='DELAWARE']))"
   ]
  },
  {
   "cell_type": "markdown",
   "id": "5c9a03ce",
   "metadata": {},
   "source": [
    "<h3>Uniones (Joins):\n",
    "    <ul>\n",
    "<li>Defina un DataFrame de búsqueda llamado grade_lookup, que\n",
    "tenga las columnas ‘grade_level y ‘level’ que asigne niveles a\n",
    "cada uno de los grados como sigue: 1 a 'ELEMENTARY', 2 a\n",
    "    'MIDDLE/HIGH', 3 a 'MISC'.</li></ul></h3>"
   ]
  },
  {
   "cell_type": "code",
   "execution_count": 70,
   "id": "5f0e57f3",
   "metadata": {},
   "outputs": [
    {
     "name": "stdout",
     "output_type": "stream",
     "text": [
      "   GRADE LEVEL  LEVEL\n",
      "0   ELEMENTARY      1\n",
      "1  MIDDLE/HIGH      2\n",
      "2         MISC      3\n"
     ]
    }
   ],
   "source": [
    "lookup = {'GRADE LEVEL': pd.Series(['ELEMENTARY',\n",
    "'MIDDLE/HIGH', 'MISC']),\n",
    "'LEVEL': pd.Series([1, 2, 3])}\n",
    "grade_lookup = pd.DataFrame(lookup)\n",
    "print(grade_lookup)"
   ]
  },
  {
   "cell_type": "markdown",
   "id": "615c4122",
   "metadata": {},
   "source": [
    "<h3>Por otro lado, tome las primeras cinco filas de la columna de\n",
    "datos en la columna GRADE e imprímalas (Téngalas en cuenta\n",
    "pues las utilizaremos para estudiar los tipos de uniones).</h3>"
   ]
  },
  {
   "cell_type": "code",
   "execution_count": 56,
   "id": "c20154ef",
   "metadata": {},
   "outputs": [
    {
     "name": "stdout",
     "output_type": "stream",
     "text": [
      "0        ELEMENTARY\n",
      "1       MIDDLE/HIGH\n",
      "2    DISTRICT TOTAL\n",
      "3        ELEMENTARY\n",
      "4       MIDDLE/HIGH\n",
      "Name: GRADE LEVEL, dtype: object\n"
     ]
    }
   ],
   "source": [
    "first_five_rows=df['GRADE LEVEL'][0:5]\n",
    "print(first_five_rows)"
   ]
  },
  {
   "cell_type": "markdown",
   "id": "9818268a",
   "metadata": {},
   "source": [
    "<h3>Describa los inner joins y realice un ejemplo con las primeras 5\n",
    "filas de la columna grade_level y grade_lookup, muestre sus\n",
    "resultados y explíquelos.</h3>"
   ]
  },
  {
   "cell_type": "code",
   "execution_count": 71,
   "id": "fd6f0a82",
   "metadata": {},
   "outputs": [
    {
     "name": "stdout",
     "output_type": "stream",
     "text": [
      "   GRADE LEVEL  LEVEL\n",
      "0   ELEMENTARY      1\n",
      "1   ELEMENTARY      1\n",
      "2  MIDDLE/HIGH      2\n",
      "3  MIDDLE/HIGH      2\n"
     ]
    }
   ],
   "source": [
    "inner_join = pd.merge(first_five_rows, grade_lookup, on='GRADE LEVEL', how='inner')\n",
    "#first_five_rows.join(grade_lookup.set_index(['GRADE LEVEL']),\n",
    "#on=['GRADE LEVEL'], how='inner')\n",
    "# pd.merge(df[1:5], grade_lookup, on='GRADE LEVEL', how='inner')\n",
    "print(inner_join)"
   ]
  },
  {
   "cell_type": "markdown",
   "id": "d74c1371",
   "metadata": {},
   "source": [
    "<h3>Describa los left outer joins y realice un ejemplo con las\n",
    "primeras 5 filas de la columna grade_level y grade_lookup,\n",
    "muestre sus resultados y explíquelos..</h3>"
   ]
  },
  {
   "cell_type": "code",
   "execution_count": 72,
   "id": "f775a3a6",
   "metadata": {},
   "outputs": [
    {
     "name": "stdout",
     "output_type": "stream",
     "text": [
      "      GRADE LEVEL  LEVEL\n",
      "0      ELEMENTARY    1.0\n",
      "1     MIDDLE/HIGH    2.0\n",
      "2  DISTRICT TOTAL    NaN\n",
      "3      ELEMENTARY    1.0\n",
      "4     MIDDLE/HIGH    2.0\n"
     ]
    }
   ],
   "source": [
    "left_join = pd.merge(first_five_rows, grade_lookup, on='GRADE LEVEL', how='left')\n",
    "print(left_join)"
   ]
  },
  {
   "cell_type": "markdown",
   "id": "0a6125c7",
   "metadata": {},
   "source": [
    "<h3>Describa los full outer joins y realice un ejemplo con las\n",
    "primeras 5 filas de la columna grade_level y grade_lookup,\n",
    "muestre sus resultados y explíquelos.</h3>"
   ]
  },
  {
   "cell_type": "code",
   "execution_count": 73,
   "id": "4a104330",
   "metadata": {},
   "outputs": [
    {
     "name": "stdout",
     "output_type": "stream",
     "text": [
      "      GRADE LEVEL  LEVEL\n",
      "0      ELEMENTARY    1.0\n",
      "1      ELEMENTARY    1.0\n",
      "2     MIDDLE/HIGH    2.0\n",
      "3     MIDDLE/HIGH    2.0\n",
      "4  DISTRICT TOTAL    NaN\n",
      "5            MISC    3.0\n"
     ]
    }
   ],
   "source": [
    "outer_join = pd.merge(first_five_rows, grade_lookup, on='GRADE LEVEL', how='outer')\n",
    "print(outer_join)"
   ]
  },
  {
   "cell_type": "markdown",
   "id": "d18bc974",
   "metadata": {},
   "source": [
    "<h3>Agrupaciones:\n",
    "    <ul>\n",
    "        <li>\n",
    "Encontrar la suma del número de estudiantes obesos en cada\n",
    "uno de los grados mediante el uso de la función groupby de\n",
    "pandas. Muestre sus resultados y explíquelo.\n",
    "        </li>\n",
    "        </ul>\n",
    "</h3>"
   ]
  },
  {
   "cell_type": "code",
   "execution_count": 75,
   "id": "055cc6ff",
   "metadata": {},
   "outputs": [
    {
     "name": "stdout",
     "output_type": "stream",
     "text": [
      "GRADE LEVEL\n",
      "DISTRICT TOTAL    1359576.0\n",
      "ELEMENTARY         770824.0\n",
      "MIDDLE/HIGH        577812.0\n",
      "Name: NO. OBESE, dtype: float64\n"
     ]
    }
   ],
   "source": [
    "sum_obese_by_grade = df['NO. OBESE'].groupby(df['GRADE LEVEL']).sum()\n",
    "print(sum_obese_by_grade)"
   ]
  },
  {
   "cell_type": "markdown",
   "id": "7615926c",
   "metadata": {},
   "source": [
    "<h3>\n",
    "Muestre diferentes tipos de agregación por suma, media y\n",
    "desviación estándar de los estudiantes obsesos en cada uno de\n",
    "los grados.\n",
    "</h3>"
   ]
  },
  {
   "cell_type": "code",
   "execution_count": 88,
   "id": "68d3c7aa",
   "metadata": {},
   "outputs": [
    {
     "name": "stdout",
     "output_type": "stream",
     "text": [
      "\n",
      "MEAN NO. OBESE BY GRADE:\n",
      "\n",
      "GRADE LEVEL\n",
      "DISTRICT TOTAL    473.719861\n",
      "ELEMENTARY        275.786762\n",
      "MIDDLE/HIGH       215.039821\n",
      "Name: NO. OBESE, dtype: float64\n",
      "\n",
      "STANDARD DEVIATION NO. OBESE BY GRADE:\n",
      "\n",
      "GRADE LEVEL\n",
      "DISTRICT TOTAL    3502.973168\n",
      "ELEMENTARY        2021.124815\n",
      "MIDDLE/HIGH       1532.055998\n",
      "Name: NO. OBESE, dtype: float64\n",
      "\n",
      "MEDIAN NO. OBESE BY GRADE:\n",
      "\n",
      "GRADE LEVEL\n",
      "DISTRICT TOTAL    92.0\n",
      "ELEMENTARY        52.0\n",
      "MIDDLE/HIGH       44.0\n",
      "Name: NO. OBESE, dtype: float64\n",
      "\n",
      "COUNT NO. OBESE BY GRADE:\n",
      "\n",
      "GRADE LEVEL\n",
      "DISTRICT TOTAL    2870\n",
      "ELEMENTARY        2795\n",
      "MIDDLE/HIGH       2687\n",
      "Name: NO. OBESE, dtype: int64\n",
      "\n",
      "MINIMUM NO. OBESE BY GRADE:\n",
      "\n",
      "GRADE LEVEL\n",
      "DISTRICT TOTAL    5.0\n",
      "ELEMENTARY        5.0\n",
      "MIDDLE/HIGH       5.0\n",
      "Name: NO. OBESE, dtype: float64\n",
      "\n",
      "MAX NO. OBESE BY GRADE:\n",
      "\n",
      "GRADE LEVEL\n",
      "DISTRICT TOTAL    86016.0\n",
      "ELEMENTARY        49140.0\n",
      "MIDDLE/HIGH       36526.0\n",
      "Name: NO. OBESE, dtype: float64\n",
      "\\SKEWNESS NO. OBESE BY GRADE:\n",
      "\n",
      "GRADE LEVEL\n",
      "DISTRICT TOTAL    20.354831\n",
      "ELEMENTARY        19.931150\n",
      "MIDDLE/HIGH       19.863275\n",
      "Name: NO. OBESE, dtype: float64\n"
     ]
    }
   ],
   "source": [
    "mean_obese_by_grade = df['NO. OBESE'].groupby(df['GRADE LEVEL']).mean()\n",
    "print(\"\\nMEAN NO. OBESE BY GRADE:\\n\")\n",
    "print(mean_obese_by_grade)\n",
    "standard_obese_by_grade = df['NO. OBESE'].groupby(df['GRADE LEVEL']).std()\n",
    "print(\"\\nSTANDARD DEVIATION NO. OBESE BY GRADE:\\n\")\n",
    "print(standard_obese_by_grade)\n",
    "median_obese_by_grade = df['NO. OBESE'].groupby(df['GRADE LEVEL']).median()\n",
    "print(\"\\nMEDIAN NO. OBESE BY GRADE:\\n\")\n",
    "print(median_obese_by_grade)\n",
    "count_obese_by_grade = df['NO. OBESE'].groupby(df['GRADE LEVEL']).count()\n",
    "print(\"\\nCOUNT NO. OBESE BY GRADE:\\n\")\n",
    "print(count_obese_by_grade)\n",
    "min_obese_by_grade = df['NO. OBESE'].groupby(df['GRADE LEVEL']).min()\n",
    "print(\"\\nMINIMUM NO. OBESE BY GRADE:\\n\")\n",
    "print(min_obese_by_grade)\n",
    "max_obese_by_grade = df['NO. OBESE'].groupby(df['GRADE LEVEL']).max()\n",
    "print(\"\\nMAX NO. OBESE BY GRADE:\\n\")\n",
    "print(max_obese_by_grade)\n",
    "skew_obese_by_grade = df['NO. OBESE'].groupby(df['GRADE LEVEL']).skew()\n",
    "print(\"\\SKEWNESS NO. OBESE BY GRADE:\\n\")\n",
    "print(skew_obese_by_grade)"
   ]
  },
  {
   "cell_type": "markdown",
   "id": "e322c998",
   "metadata": {},
   "source": [
    "<h3>Conclusiones</h3>\n",
    "<ul>\n",
    "    <li>De los 21 tipos de barcos, el 80.95% tiene una masa de menos de 1 millón de kilogramos, y solo un barco supera los 4 millones de kilogramos en su masa.</li>\n",
    "    <li>la data que se obtiene del edpoint de spacex tiene 28 filas y 24 columnas. De esas 24 columnas 9 son variables cuantitativas y dos son listas, una es la lista de roles y la otra es la lista de lanzamientos.</li>\n",
    "</ul>"
   ]
  },
  {
   "cell_type": "markdown",
   "id": "370015cf",
   "metadata": {},
   "source": [
    "<h3>Bibliografía</h3>\n",
    "<ul>\n",
    "<li>Alex Galea. (2018). Applied Data Science with Python and Jupyter: Use Powerful Industry-standard Tools to Unlock New, Actionable Insights From Your Data: Vol. 1st edition.</li>\n",
    "<li>Boschetti, A., & Massaron, L. (2016). Python Data Science Essentials - Second Edition (Vol. 0002).</li>\n",
    "<li>Samir Madhavan. (2015). Mastering Python for Data Science: Explore the World of Data Science Through Python and Learn How to Make Sense of Data.</li>\n",
    "<li>Vargas, M. (2022). Carga de datos en Python desde un archivo Excel. UNAD. [OVI]</li>\n",
    "<li>McKinney, W. (2015). Pandas, python data analysis library. URL http://pandas. pydata. org, 3-15.</li>\n",
    "</ul>"
   ]
  },
  {
   "cell_type": "code",
   "execution_count": null,
   "id": "23b7f1d7",
   "metadata": {},
   "outputs": [],
   "source": []
  }
 ],
 "metadata": {
  "kernelspec": {
   "display_name": "Python 3 (ipykernel)",
   "language": "python",
   "name": "python3"
  },
  "language_info": {
   "codemirror_mode": {
    "name": "ipython",
    "version": 3
   },
   "file_extension": ".py",
   "mimetype": "text/x-python",
   "name": "python",
   "nbconvert_exporter": "python",
   "pygments_lexer": "ipython3",
   "version": "3.8.12"
  }
 },
 "nbformat": 4,
 "nbformat_minor": 5
}
