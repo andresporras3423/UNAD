{
 "cells": [
  {
   "cell_type": "code",
   "execution_count": 1,
   "id": "1b297da1",
   "metadata": {},
   "outputs": [
    {
     "name": "stdout",
     "output_type": "stream",
     "text": [
      "average of age: 40.875\n",
      "average of weight: 59.0\n",
      "average of height: 1.6662499999999998\n",
      "average of study: 0.375\n"
     ]
    }
   ],
   "source": [
    "# variable de tipo diccionario donde el key es el nombre y el value es la tupla con la infiormación de la persona.\n",
    "people = {\n",
    "        \"Jenny\": (26,39,1.48,True) #Cada tupla contiene cuatro valores: Edad, Peso, Estatura, Estudia\n",
    "        ,\"Hilda\": (63,60,1.56,False)\n",
    "        ,\"Felipe\": (34,75,1.75,False) \n",
    "        ,\"Andrés\": (32,53,1.70,False)\n",
    "        ,\"Kevin\": (37,58,1.68,True)\n",
    "        ,\"Alejandro\": (43,68,1.78,False)\n",
    "        ,\"Pedro\": (62,65,1.75,False)\n",
    "        ,\"Paola\": (30,54,1.63,True)\n",
    "    }\n",
    "\n",
    "\n",
    "def get_average_list(list): # función que recibe como variable una lista\n",
    "    if(isinstance(list[0], bool)): # si la variable contiene boleanos\n",
    "        # sumar 1 si el valor es true, 0 si es false, luego divide sobre el total de datos para obtener el promedio\n",
    "        return sum([(1 if item else 0) for item in list])/len(list)\n",
    "    # si la lista no es de booleanos, suma los valores y divide sobre la longitud de la lista para sacar el promedio\n",
    "    return sum(list)/len(list)\n",
    "\n",
    "list_names = [\"age\",\"weight\",\"height\",\"study\"] # lista para identificar el orden de los valores en la tupla\n",
    "for index in range(4): # bucle para construir cada una de las 4 listas\n",
    "  current_list=[]\n",
    "  for key, value in people.items(): # buble para leer el key y el value del diccionario\n",
    "    current_list.append(value[index]) # agregar a la lista el valor correspondiente de la tupla\n",
    "  average = get_average_list(current_list) # obtiene el promedio usando la función creada\n",
    "  print(f\"average of {list_names[index]}: {average}\") # muestra el promedio calculado para la actual lista."
   ]
  },
  {
   "cell_type": "code",
   "execution_count": 32,
   "id": "f8856317",
   "metadata": {},
   "outputs": [
    {
     "name": "stdout",
     "output_type": "stream",
     "text": [
      "corrects: 6, totals: 6\n"
     ]
    }
   ],
   "source": [
    "import sys\n",
    "import pyodbc\n",
    "sys.path.append('Y:\\\\Desktop\\\\algorithm_challenges')\n",
    "from math_challengues_python import sql_connection\n",
    "from functools import reduce\n",
    "import math\n",
    "\n",
    "def test(cursor, conn):\n",
    "    data_to_insert = []\n",
    "    cursor.execute('''SELECT *\n",
    "       FROM [math_challenges].[dbo].[questions_7]''')\n",
    "    rows = cursor.fetchall()\n",
    "    for row in rows:\n",
    "        numbers=[float(num) for num in row.numbers.split(',')]\n",
    "        numbers.sort()\n",
    "        median = numbers[int((len(numbers)-1)/2)] if (len(numbers)%2)==1 else  (numbers[int((len(numbers)/2)-1)]+numbers[int(len(numbers)/2)])/2.0\n",
    "        data_to_insert.append([row.id,median])\n",
    "    insert_query = \"INSERT INTO [math_challenges].[dbo].[solutions_7] values (?, ?)\"\n",
    "    # print(data_to_insert)\n",
    "    cursor.executemany(insert_query, [(row[0], row[1]) for row in data_to_insert])\n",
    "    conn.commit()\n",
    "    try:\n",
    "        cursor.execute(\"EXEC [dbo].[check_question7];\")\n",
    "        conn.commit()\n",
    "        cursor.execute(\"EXEC [dbo].[get_results];\")\n",
    "        rows = cursor.fetchall()\n",
    "        conn.commit()  # Commit the transaction\n",
    "        print(f\"corrects: {rows[0].corrects}, totals: {rows[0].total}\") \n",
    "    except Exception as e:\n",
    "        conn.rollback()  # Roll back the transaction\n",
    "        print(\"Error:\", e)  \n",
    "\n",
    "sql_connection.get_con(test)"
   ]
  },
  {
   "cell_type": "code",
   "execution_count": 30,
   "id": "5a90bf1a",
   "metadata": {},
   "outputs": [
    {
     "name": "stdout",
     "output_type": "stream",
     "text": [
      "2.0\n"
     ]
    }
   ],
   "source": [
    "print(len([1,2,3,4])/2)"
   ]
  },
  {
   "cell_type": "code",
   "execution_count": null,
   "id": "8ba4fd25",
   "metadata": {},
   "outputs": [],
   "source": []
  },
  {
   "cell_type": "code",
   "execution_count": null,
   "id": "b5369c25",
   "metadata": {},
   "outputs": [],
   "source": []
  },
  {
   "cell_type": "code",
   "execution_count": null,
   "id": "03ccce09",
   "metadata": {},
   "outputs": [],
   "source": []
  }
 ],
 "metadata": {
  "kernelspec": {
   "display_name": "Python 3 (ipykernel)",
   "language": "python",
   "name": "python3"
  },
  "language_info": {
   "codemirror_mode": {
    "name": "ipython",
    "version": 3
   },
   "file_extension": ".py",
   "mimetype": "text/x-python",
   "name": "python",
   "nbconvert_exporter": "python",
   "pygments_lexer": "ipython3",
   "version": "3.8.12"
  }
 },
 "nbformat": 4,
 "nbformat_minor": 5
}
