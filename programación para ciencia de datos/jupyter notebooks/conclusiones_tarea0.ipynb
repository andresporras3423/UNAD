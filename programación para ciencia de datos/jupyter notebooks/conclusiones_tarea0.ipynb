{
 "cells": [
  {
   "cell_type": "markdown",
   "id": "3c0dcadf",
   "metadata": {},
   "source": [
    "CONCLUSIONES\n",
    "\n",
    "    1. Anaconda es una plataforma de código abierto para administración de paquetes de software.Esta diseñada para científicos de datos. A través de la herramientas Conda, permite la eliminación, actualización y eliminación de paquetes de Python, R, Julia, Matlab, entre otros penguajes de programación.\n",
    "    2. Python es un lenguaje de alto nivel que se caracteriza por tener una sintaxis simple que facilita el proceso de aprendizaje. Se ha vuelto popular para la ciencia de datos debido a que se han creado muchos paquetes, bibliotecas y frameworks de código abierto diseñados específicamente para el análisis y manipulación de datos.\n",
    "    3. Algunos de los paquetes más populares para la ciencia de datos con los que cuenta Python son NumPy, Pandas, Seaborn, matplotlib, scikit-learn, Bokeh, y Folium. \n",
    "    4. PIP (que es un acrónimo de Python install packages) es un gestor de paquetes para Python que permite la instalación, actualización de eliminación de paquetes de manera global o en ambientes aislados cuando se utiliza con virtualenv o conda.\n",
    "    5. Conda es una herramienta de anaconda que permite gestionar paquetes de diferentes lenguajes comúnmente usandos en la ciencia de datos, además permite la creación de ambientes aislados donde se pueden instalar paquetes y bibliotecas sin afectar otros proyectos, incluso permite instalar versiones específicas de Python para cada ambiente.\n",
    "    6. Jupyter es una herramienta de código abierto que permite compartir documentos interactivos donde podemos encontrar código, gráficos, texto explicativo, entre otros. El nombre Jupyter viene de los tres lenguajes de programación que soportaba en un inicio (Julia, Python, y R).\n",
    "    7. Los Jupyter Notebook son documentos interactivos que permiten compartir distintos tipos de contenido en un solo archivo. Funciona a través de celdas, en cada celda puede ir distinto tipo de contenido, desde código, visualizaciones y texto explicativo usando el lenguaje de marcado Markdown.\n",
    "    8. Markdown es un lenguaje de marcado utilizado para dar formato al texto plano. Se caracteriza por ser ligero y sencillo cuando se compara con alternativas similares como HTML."
   ]
  }
 ],
 "metadata": {
  "kernelspec": {
   "display_name": "Python 3 (ipykernel)",
   "language": "python",
   "name": "python3"
  },
  "language_info": {
   "codemirror_mode": {
    "name": "ipython",
    "version": 3
   },
   "file_extension": ".py",
   "mimetype": "text/x-python",
   "name": "python",
   "nbconvert_exporter": "python",
   "pygments_lexer": "ipython3",
   "version": "3.8.12"
  }
 },
 "nbformat": 4,
 "nbformat_minor": 5
}
