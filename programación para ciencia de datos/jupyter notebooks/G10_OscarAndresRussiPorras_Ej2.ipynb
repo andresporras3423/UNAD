{
 "cells": [
  {
   "cell_type": "markdown",
   "id": "93346cba",
   "metadata": {},
   "source": [
    "<h4 style=\"text-align: center;\"> Curso: Programación para el análisis de datos</h4><br>\n",
    "    <h4 style=\"text-align: center;\">Tarea: Unidad 1 - ejercicio 2</h4><br>\n",
    "<h4 style=\"text-align: center;\">Presentado por: Oscar Andrés Russi Porras</h4><br>\n",
    "<h4 style=\"text-align: center;\">Grupo: 10</h4><br>\n",
    "<h4 style=\"text-align: center;\">Código: 1018436442</h4><br>\n",
    "<h4 style=\"text-align: center;\">Presentado a: Felipe Alexander Pipicano Guzmán</h4><br>\n",
    "<h4 style=\"text-align: center;\">Universidad Nacional Abierta y a Distancia – UNAD</h4><br>\n",
    "<h4 style=\"text-align: center;\">Fecha: 15/09/2023</h4><br>"
   ]
  },
  {
   "cell_type": "markdown",
   "id": "a20051df",
   "metadata": {},
   "source": [
    "<h3>Solución de los ejercicios</h3><br><br>\n",
    "<lu><li>construya la siguiente matriz como un arreglo de numpy:\n",
    "    $$\n",
    "A =\n",
    "\\begin{bmatrix}\n",
    "13 & 1 \\\\\n",
    "14 & 1 \\\\\n",
    "15 & 1 \\\\\n",
    "16 & 1 \\\\\n",
    "17 & 1 \\\\\n",
    "18 & 1 \\\\\n",
    "\\end{bmatrix}\n",
    "$$\n",
    "    </li></lu>"
   ]
  },
  {
   "cell_type": "code",
   "execution_count": 20,
   "id": "84f1e9f9",
   "metadata": {},
   "outputs": [
    {
     "name": "stdout",
     "output_type": "stream",
     "text": [
      "[[13  1]\n",
      " [14  1]\n",
      " [15  1]\n",
      " [16  1]\n",
      " [17  1]\n",
      " [18  1]]\n"
     ]
    }
   ],
   "source": [
    "import numpy as np\n",
    "A = np.array([[13, 1], [14, 1], [15, 1], [16, 1], [17, 1], [18, 1]])\n",
    "print(A)"
   ]
  },
  {
   "cell_type": "markdown",
   "id": "d1a27fdb",
   "metadata": {},
   "source": [
    "<ul><li>Construya el siguiente vector como arreglo de numpy:</li></ul>\n",
    "$$\n",
    "b =\n",
    "\\begin{bmatrix}\n",
    "16 \\\\\n",
    "24 \\\\\n",
    "45 \\\\\n",
    "57 \\\\\n",
    "75 \\\\\n",
    "102 \\\\\n",
    "\\end{bmatrix}\n",
    "$$"
   ]
  },
  {
   "cell_type": "code",
   "execution_count": 21,
   "id": "6ad1cd6d",
   "metadata": {},
   "outputs": [
    {
     "name": "stdout",
     "output_type": "stream",
     "text": [
      "[ 16  24  45  57  75 102]\n"
     ]
    }
   ],
   "source": [
    "b = np.array([16,24,45,57,75,102])\n",
    "print(b)"
   ]
  },
  {
   "cell_type": "markdown",
   "id": "2628a6ef",
   "metadata": {},
   "source": [
    "<ul><li>Calcule el siguiente vector x, usando operaciones de matrices (dot, transpose, inv) de numpy.linalg:\n",
    "   $$\n",
    "x=(A^{T}A)^{-1}A^{T}b\n",
    "$$ \n",
    "    </li></ul>"
   ]
  },
  {
   "cell_type": "code",
   "execution_count": 22,
   "id": "0a210b95",
   "metadata": {},
   "outputs": [
    {
     "name": "stdout",
     "output_type": "stream",
     "text": [
      "[  17.         -210.33333333]\n"
     ]
    }
   ],
   "source": [
    "transpose_A= A.T # transpose of A\n",
    "TA_dot_A = np.dot(transpose_A, A) # multiply tranpose of A and A\n",
    "inv_TA_dot_A =  np.linalg.inv(TA_dot_A) # inverse previous result\n",
    "TA_dot_b = np.dot(transpose_A, b) # multiply tranpose of A and b\n",
    "x_matrix  = np.dot(inv_TA_dot_A, TA_dot_b)\n",
    "print(x_matrix)\n"
   ]
  },
  {
   "cell_type": "markdown",
   "id": "4a7b69b5",
   "metadata": {},
   "source": [
    "<ul><li>y calcule ‖𝐴𝑥−𝑏‖ utilizando la función numpy.linalg.norm.</li></ul>"
   ]
  },
  {
   "cell_type": "code",
   "execution_count": 23,
   "id": "d1381451",
   "metadata": {},
   "outputs": [
    {
     "name": "stdout",
     "output_type": "stream",
     "text": [
      "10.83205120618128\n"
     ]
    }
   ],
   "source": [
    "A_x_dot = np.dot(A, x_matrix) # multiply A and x matrix\n",
    "# print(A_x_dot)\n",
    "diff_A_x_dot_And_b = A_x_dot - b # get matrix difference\n",
    "norm_final_matrix = np.linalg.norm(diff_A_x_dot_And_b) # get norm of the previous matrix\n",
    "print(norm_final_matrix)"
   ]
  },
  {
   "cell_type": "markdown",
   "id": "2f46fd88",
   "metadata": {},
   "source": [
    "<ul><li>Solucione el siguiente sistema de ecuaciones, mediante la función numpy.linalg.solve (de ser necesario, investigue la función en la documentación de numpy):\n",
    "   $$\n",
    "(A^{T}A)x=A^{T}b\n",
    "$$ \n",
    "    </li></ul>"
   ]
  },
  {
   "cell_type": "code",
   "execution_count": 24,
   "id": "61800694",
   "metadata": {},
   "outputs": [
    {
     "name": "stdout",
     "output_type": "stream",
     "text": [
      "[  17.         -210.33333333]\n"
     ]
    }
   ],
   "source": [
    "x_solution = np.linalg.solve(TA_dot_A, TA_dot_b)\n",
    "print(x_solution)"
   ]
  },
  {
   "cell_type": "markdown",
   "id": "f2468144",
   "metadata": {},
   "source": [
    "<ul><li>y calcule ‖𝐴𝑥−𝑏‖ utilizando la función numpy.linalg.norm.</li></ul>"
   ]
  },
  {
   "cell_type": "code",
   "execution_count": 25,
   "id": "9e48db01",
   "metadata": {},
   "outputs": [
    {
     "name": "stdout",
     "output_type": "stream",
     "text": [
      "10.832051206181271\n"
     ]
    }
   ],
   "source": [
    "norm_final2 = np.linalg.norm(np.dot(A,x_solution)-b) # calculate again norm using the matrix calculated in the previous cell\n",
    "print(norm_final2)"
   ]
  },
  {
   "cell_type": "markdown",
   "id": "89a530af",
   "metadata": {},
   "source": [
    "<ul><li>Solucione el siguiente sistema de ecuaciones, mediante la función numpy.linalg.lstsq (de ser necesario, investigue la función en la documentación de numpy):\n",
    "   $$\n",
    "Ax=b\n",
    "$$ \n",
    "    </li></ul>"
   ]
  },
  {
   "cell_type": "code",
   "execution_count": 26,
   "id": "69250289",
   "metadata": {},
   "outputs": [
    {
     "name": "stdout",
     "output_type": "stream",
     "text": [
      "(array([  17.        , -210.33333333]), array([117.33333333]), 2, array([38.27438209,  0.26772348]))\n"
     ]
    }
   ],
   "source": [
    "solved_system = np.linalg.lstsq(A, b, rcond=None) # solve system Ax = b\n",
    "print(solved_system)"
   ]
  },
  {
   "cell_type": "markdown",
   "id": "42895b2c",
   "metadata": {},
   "source": [
    "<ul><li>y calcule ‖𝐴𝑥−𝑏‖ utilizando la función numpy.linalg.norm.</li></ul>"
   ]
  },
  {
   "cell_type": "code",
   "execution_count": 27,
   "id": "8fcb85ac",
   "metadata": {
    "scrolled": false
   },
   "outputs": [
    {
     "name": "stdout",
     "output_type": "stream",
     "text": [
      "10.832051206181276\n"
     ]
    }
   ],
   "source": [
    "norm_final3 = np.linalg.norm(np.dot(A,solved_system[0])-b) # calculate again norm using the matrix calculated in the previous cell\n",
    "print(norm_final3)"
   ]
  },
  {
   "cell_type": "markdown",
   "id": "30c36a08",
   "metadata": {},
   "source": [
    "# Conclusiones\n",
    "\n",
    "<ul>\n",
    "    <li>\n",
    "    La siguiente es una propiedad de la multiplicación de matrices $$ A X A^{-1} = I $$ \n",
    "donde $$ I $$ es la matriz identidad. Y además $$ A X I = A $$ \n",
    "\n",
    "por lo anterior al tener la siguiente operación: $$ x=(A^{T}A)^{-1}A^{T}b $$\n",
    "si multiplicamos a ambos lados por el valor: $$ (A^{T}A) $$\n",
    "obtenemos lo siguiente  $$ (A^{T}A)x=A^{T}b $$\n",
    "De forma que en ambas ecuaciones, el vector o matriz x tienen el mismo valor.\n",
    "    </li><br>\n",
    "    <li>\n",
    "        según el principio de mínimos cuadrados, si la ecuación de matrices $$ Ax=b $$ no tiene solución se puede obtener una solución aproximada con la siguiente fórmula:\n",
    "       $$\n",
    "        x \\approx (A^{T}A)^{-1}A^{T}b\n",
    "       $$\n",
    "        Pero en caso de que la ecuación tenga solución entonces el método de mínimos cuadrados permitirá llegar a la solución exacta. De forma que si Ax=b tiene solución entonces:\n",
    "        $$\n",
    "        A^{-1}b = (A^{T}A)^{-1}A^{T}b\n",
    "        $$\n",
    "    </li><br>\n",
    "    <li>\n",
    "        en el desarrollo del ejercicio, el método lstsq de numpy retornó la siquiente tupla:\n",
    "    (array([  17.        , -210.33333333]), array([117.33333333]), 2, array([38.27438209,  0.26772348]))\n",
    "        1) La solución, esto es el vector que se obtiene mediante el método de mínimos cuadrados. En este caso la solución es el array  [17, -210.33333333] que es el mismo valor obtenido con el método solve.\n",
    "        2) Residuos, esto es la suma de las distancias entre los valores esperados y los valores observados. En este caso el valor es 117.33333333. Residuos es un array porque lstsq permite operar sobre múltiples vectores.\n",
    "        3) Esto es el rango de la matriz, esto es el número de filas linealmente independientes en la matriz, en este caso el valor es 2.\n",
    "        4) \n",
    "    </li><br>\n",
    "    <li>\n",
    "    La transpuesta de una matriz(expresada usualmente como A^t) donde las columnas son equivalentes a las filas de \n",
    "la matriz original.<br>\n",
    "En consecuencia cada valor de la columna original cuyas coordenadas estaban en las coordenadas ij pasa a estar en las \n",
    "coordenadas ji.<br>\n",
    "Ejemplo, si tenemos la matriz:\n",
    "$$\n",
    "  \\begin{bmatrix}\n",
    "1 & 2 \\\\\n",
    "3 & 4 \\\\\n",
    "\\end{bmatrix}\n",
    "$$\n",
    "Su transpuesta es: \n",
    "$$\n",
    "  \\begin{bmatrix}\n",
    "1 & 3 \\\\\n",
    "2 & 4 \\\\\n",
    "\\end{bmatrix}\n",
    "$$\n",
    "    </li><br>\n",
    "    <li>\n",
    "    \n",
    "la operación punto entre dos matrices (expresada como A*B) es un tipo de multiplicación de matrices donde el resultado final\n",
    "es una nueva matriz con i filas (número de filas de la segunda matriz) y j columnas (número de columnas de la primera matriz)\n",
    "y donde el valor de cada valor en coordenadas ij es la suma del producto de los valores de la fila i en A y de la columna \n",
    "j en B. Para poder hacer la operación punto la primera matriz debe tener un número de filas equivalente a las columnas de \n",
    "la segunda matriz .\n",
    "ejemplo dee multiplicación de matrices:\n",
    "$$\n",
    "\\begin{bmatrix}\n",
    "1 & 2 \\\\\n",
    "3 & 4 \\\\\n",
    "\\end{bmatrix}\n",
    "\\cdot\n",
    "\\begin{bmatrix}\n",
    "5 \\\\\n",
    "6 \\\\\n",
    "\\end{bmatrix}\n",
    "$$\n",
    "\n",
    "Basado en la explicación anteriormente dada el resultado de esta multiplicación sería:\n",
    "$$\n",
    "\\begin{bmatrix}\n",
    "1 \\times 5 + 2 \\times 6 \\\\\n",
    "3 \\times 5 + 4 \\times 6 \\\\\n",
    "\\end{bmatrix}\n",
    "= \n",
    "\\begin{bmatrix}\n",
    "17 \\\\\n",
    "39 \\\\\n",
    "\\end{bmatrix}\n",
    "$$\n",
    "    </li><br>\n",
    "    <li>\n",
    "    La matriz invertida se construye de la siguiente forma, teniendo una matriz de n x n, realizar operaciones sobre esta hasta obtener la matriz identidad, realizar las mismas operaciones sobre una matriz identidad y el resultado final de esta segunda matriz es la invertida. Ejemplo:\n",
    "$$\n",
    "\\begin{bmatrix}\n",
    "1 & 2 & 1 \\\\\n",
    "2 & 3 & 1 \\\\\n",
    "1 & 1 & 2 \\\\\n",
    "\\end{bmatrix}\n",
    "\\begin{bmatrix}\n",
    "1 & 0 & 0 \\\\\n",
    "0 & 1 & 0 \\\\\n",
    "0 & 0 & 1 \\\\\n",
    "\\end{bmatrix}\n",
    "$$\n",
    "empezamos a construir la matriz triangular superior en la primera columna:\n",
    "$$\n",
    "\\begin{bmatrix}\n",
    "1 & 2 & 1 \\\\\n",
    "0 & -1 & -1 \\\\\n",
    "0 & -1 & 1 \\\\\n",
    "\\end{bmatrix}\n",
    "\\begin{bmatrix}\n",
    "1 & 0 & 0 \\\\\n",
    "-2 & 1 & 0 \\\\\n",
    "-1 & 0 & 1 \\\\\n",
    "\\end{bmatrix}\n",
    "$$\n",
    "seguimos construyendo la matriz triangular con la segunda columna:\n",
    "$$\n",
    "\\begin{bmatrix}\n",
    "1 & 2 & 1 \\\\\n",
    "0 & -1 & -1 \\\\\n",
    "0 & 0 & 2 \\\\\n",
    "\\end{bmatrix}\n",
    "\\begin{bmatrix}\n",
    "1 & 0 & 0 \\\\\n",
    "-2 & 1 & 0 \\\\\n",
    "1 & -1 & 1 \\\\\n",
    "\\end{bmatrix}\n",
    "$$\n",
    "empezamos a construir la matriz identidad en la última file:\n",
    "$$\n",
    "\\begin{bmatrix}\n",
    "1 & 2 & 0 \\\\\n",
    "0 & -1 & 0 \\\\\n",
    "0 & 0 & 1 \\\\\n",
    "\\end{bmatrix}\n",
    "\\begin{bmatrix}\n",
    "\\frac{1}{2} & \\frac{1}{2} & \\frac{-1}{2} \\\\\n",
    "\\frac{-3}{2} & \\frac{1}{2} & \\frac{1}{2} \\\\\n",
    "\\frac{1}{2} & \\frac{-1}{2} & \\frac{1}{2} \\\\\n",
    "\\end{bmatrix}\n",
    "$$\n",
    "continuamos con la primera fila:\n",
    "$$\n",
    "\\begin{bmatrix}\n",
    "1 & 0 & 0 \\\\\n",
    "0 & -1 & 0 \\\\\n",
    "0 & 0 & 1 \\\\\n",
    "\\end{bmatrix}\n",
    "\\begin{bmatrix}\n",
    "\\frac{-5}{2} & \\frac{3}{2} & \\frac{1}{2} \\\\\n",
    "\\frac{-3}{2} & \\frac{1}{2} & \\frac{1}{2} \\\\\n",
    "\\frac{1}{2} & \\frac{-1}{2} & \\frac{1}{2} \\\\\n",
    "\\end{bmatrix}\n",
    "$$\n",
    "terminamos de hacer la matriz identidad en la segunda fila:\n",
    "$$\n",
    "\\begin{bmatrix}\n",
    "1 & 0 & 0 \\\\\n",
    "0 & 1 & 0 \\\\\n",
    "0 & 0 & 1 \\\\\n",
    "\\end{bmatrix}\n",
    "\\begin{bmatrix}\n",
    "\\frac{-5}{2} & \\frac{3}{2} & \\frac{1}{2} \\\\\n",
    "\\frac{3}{2} & \\frac{-1}{2} & \\frac{-1}{2} \\\\\n",
    "\\frac{1}{2} & \\frac{-1}{2} & \\frac{1}{2} \\\\\n",
    "\\end{bmatrix}\n",
    "$$\n",
    "    </li><br>\n",
    "    <li>\n",
    "    Teniendo dos matrices A y B donde ambas tienen las mismas dimensiones ij, la suma o diferencia es el resultado de sumar (o restar) cada par de valores de A y B que comparten las mismas coordenadas. Ejemplo:\n",
    "\n",
    "$$\n",
    "\\begin{bmatrix}\n",
    "1 & 2 \\\\\n",
    "3 & 4 \\\\\n",
    "\\end{bmatrix}\n",
    "+\n",
    "\\begin{bmatrix}\n",
    "5 & 6 \\\\\n",
    "7 & 8 \\\\\n",
    "\\end{bmatrix}\n",
    "=\n",
    "\\begin{bmatrix}\n",
    "5+1 & 6+2 \\\\\n",
    "7+3 & 8+4 \\\\\n",
    "\\end{bmatrix}\n",
    "=\n",
    "\\begin{bmatrix}\n",
    "6 & 8 \\\\\n",
    "10 & 12 \\\\\n",
    "\\end{bmatrix}\n",
    "$$\n",
    "\n",
    "</li><br>\n",
    "    <li>   \n",
    "La norma de un vector o una matriz es la raiz cuadrada de los cuadrados de los componentes de la matriz o vector. Ejemplo, teniendo la siguiente matriz:\n",
    "$$\n",
    "\\begin{bmatrix}\n",
    "5 & 1 \\\\\n",
    "7 & 5 \\\\\n",
    "\\end{bmatrix}\n",
    "$$\n",
    "la norma de esta matriz es:\n",
    "$$\n",
    "\\sqrt{5^2 + 1^2 + 5^2 + 7^2} = \\sqrt{25 + 1 + 25 + 49} = \\sqrt{100} = 10\n",
    "$$\n",
    "    </li><br>\n",
    "    <li>\n",
    "    En términos algebráicos se puede expresar que resolver un sistema lineal de ecuaciones e encontrar x de la función:\n",
    "\n",
    "$$\n",
    "Ax=b\n",
    "$$\n",
    "\n",
    "Donde A es una matriz, x es la columna de las incógnitas y b es la columna vector dee términos independientes. Existen muchos métodos para encontrar la solución, una forma es invirtiendo la matriz, mediante sustitución,y también mediante el método crammer. En este último método vamos sustituyendo una de las columnas de A por la del vector b, encontramos la determinante de esta nueva matriz y la dividimos por la determinante de la matriz A, y repetimos para cada columna y así econtramos todas las incógnitas. Ejemplo, teniendo el siguiente sistema de ecuaciones:\n",
    "\n",
    "$$\n",
    "2x + y = 7\n",
    "\\\\\n",
    "x + 3y = 6\n",
    "$$\n",
    "para x tenemos que:\n",
    "$$\n",
    "\\det \n",
    "\\begin{bmatrix}\n",
    "7 & 1 \\\\\n",
    "6 & 3 \\\\\n",
    "\\end{bmatrix}\n",
    "\\div\n",
    "\\det\n",
    "\\begin{bmatrix}\n",
    "2 & 1 \\\\\n",
    "1 & 3 \\\\\n",
    "\\end{bmatrix}\n",
    "= \n",
    "\\frac{7 \\times 3 - 1 \\times 6}{2 \\times 3 - 1 \\times 1} \n",
    "= \n",
    "\\frac{15}{5}\n",
    "=\n",
    "3\n",
    "$$\n",
    "Y para y tenemos:\n",
    "$$\n",
    "\\det \n",
    "\\begin{bmatrix}\n",
    "2 & 7 \\\\\n",
    "1 & 6 \\\\\n",
    "\\end{bmatrix}\n",
    "\\div\n",
    "\\det\n",
    "\\begin{bmatrix}\n",
    "2 & 1 \\\\\n",
    "1 & 3 \\\\\n",
    "\\end{bmatrix}\n",
    "= \n",
    "\\frac{2 \\times 6 - 7 \\times 1}{2 \\times 3 - 1 \\times 1} \n",
    "= \n",
    "\\frac{5}{5}\n",
    "=\n",
    "1\n",
    "$$\n",
    "por lo tanto:\n",
    "$$\n",
    "x=3, y=1\n",
    "$$\n",
    "    </li><br>\n",
    "    <li>numpy.array es un método que permite almacenar arreglos multidimensionales, entendiendo por arreglos una estructura de datos que puede ser usada para representar vectores, matrices y tensores. Ejemplo: \"numpy.Array([[1,2,][3,4]])\".\n",
    "    </li><br>\n",
    "    <li>numpy.dot es un método que permite multiplicar numpy arrays (cuando la operación es posible según las reglas de la multiplicación de matrices). Ejemplo: \"numpy.dot(numpy.array([1,2]),numpy.array([3,4]))\".\n",
    "    </li><br>\n",
    "    <li>El método T de numpy.array permite obtener la transpuesta de una matriz.Ejemplo de uso: \"numpy.Array([[1,2,][3,4]]).T\".\n",
    "    </li><br>\n",
    "    <li>\n",
    "        El método numpy.linalg.inv permite obtener la inversa de una matriz cuadrada (que son el único tipo de matrices invertibles). Un ejemplo de su uso sería: \"numpy.linalg.inv(numpy.array([[1,2],[3,4]]))\".\n",
    "    </li><br>\n",
    "    <li>\n",
    "        El método numpy.linalg.norm permite calcular la norma de una matriz. Ejemplo: \"numpy.linalg.norm(numpy.array([[1,2],[3,4]]))\".\n",
    "    </li><br>\n",
    "    <li>\n",
    "        Con el método numpy.linalg.solve permite resolver ecuaciones de algebra lineal de la forma Ax=b. Ejemplo, teniendo la siguient ecuación:\n",
    "        $$\n",
    "        \\begin{bmatrix}\n",
    "1 & 2 \\\\\n",
    "3 & 4 \\\\\n",
    "\\end{bmatrix}x=\n",
    "\\begin{bmatrix}\n",
    "2 & 4 \\\\\n",
    "1 & 1 \\\\\n",
    "\\end{bmatrix}\n",
    "        $$\n",
    "        podemos encontrar x con\n",
    "        \"numpy.linalg.solve(numpy.array([[1,2],[3,4]]),numpy.array([[2,4],[1,1]]))\".\n",
    "    </li><br>\n",
    "    <li>\n",
    "            Con el método numpy.linalg.lstsq podemos encontrar la aproximación de los mínimos cuadrados de la ecuación de algebra lineal en la forma Ax-b. Ejemplo, teniendo la siguiente ecuación:\n",
    "        $$\n",
    "        \\begin{bmatrix}\n",
    "1 & 2 \\\\\n",
    "3 & 4 \\\\\n",
    "\\end{bmatrix}x-\n",
    "\\begin{bmatrix}\n",
    "2 \\\\\n",
    "4 \\\\\n",
    "\\end{bmatrix}\n",
    "        $$\n",
    "        podemos encontrar x con \"numpy.linalg.lstsq(numpy.array([[1,2],[3,4]]),numpy.array([2,4]))\"\n",
    "        \n",
    "    </li><br>\n",
    "</ul>"
   ]
  },
  {
   "cell_type": "markdown",
   "id": "1993c7f7",
   "metadata": {},
   "source": [
    "<h3>Bibliografía</h3>\n",
    "<ul>\n",
    "<li>Alex Galea. (2018). Applied Data Science with Python and Jupyter: Use Powerful Industry-standard Tools to Unlock New, Actionable Insights From Your Data: Vol. 1st edition.</li>\n",
    "<li>Boschetti, A., & Massaron, L. (2016). Python Data Science Essentials - Second Edition (Vol. 0002).</li>\n",
    "<li>Samir Madhavan. (2015). Mastering Python for Data Science: Explore the World of Data Science Through Python and Learn How to Make Sense of Data.</li>\n",
    "<li>Thakur, A. (2016). Python: Real-World Data Science. Packt Publishing. (pp. 491 - 508).</li>\n",
    "<li>McKinney, W. (2015). Pandas, python data analysis library. URL http://pandas. pydata. org, 3-15.</li>\n",
    "</ul>"
   ]
  },
  {
   "cell_type": "code",
   "execution_count": 30,
   "id": "6bb20249",
   "metadata": {},
   "outputs": [
    {
     "name": "stderr",
     "output_type": "stream",
     "text": [
      "C:\\Users\\Usuario\\AppData\\Local\\Temp\\ipykernel_18676\\1084922482.py:2: FutureWarning: `rcond` parameter will change to the default of machine precision times ``max(M, N)`` where M and N are the input matrix dimensions.\n",
      "To use the future default and silence this warning we advise to pass `rcond=None`, to keep using the old, explicitly pass `rcond=-1`.\n",
      "  np.linalg.lstsq(np.array([[1,1],[1,1],[2,-1]]),np.array([2,1,1]))\n"
     ]
    },
    {
     "data": {
      "text/plain": [
       "(array([0.83333333, 0.66666667]),\n",
       " array([0.5]),\n",
       " 2,\n",
       " array([2.44948974, 1.73205081]))"
      ]
     },
     "execution_count": 30,
     "metadata": {},
     "output_type": "execute_result"
    }
   ],
   "source": [
    "import numpy as np\n",
    "np.linalg.lstsq(np.array([[1,1],[1,1],[2,-1]]),np.array([2,1,1]))"
   ]
  },
  {
   "cell_type": "code",
   "execution_count": null,
   "id": "62a31f01",
   "metadata": {},
   "outputs": [],
   "source": []
  }
 ],
 "metadata": {
  "kernelspec": {
   "display_name": "Python 3 (ipykernel)",
   "language": "python",
   "name": "python3"
  },
  "language_info": {
   "codemirror_mode": {
    "name": "ipython",
    "version": 3
   },
   "file_extension": ".py",
   "mimetype": "text/x-python",
   "name": "python",
   "nbconvert_exporter": "python",
   "pygments_lexer": "ipython3",
   "version": "3.11.4"
  }
 },
 "nbformat": 4,
 "nbformat_minor": 5
}
