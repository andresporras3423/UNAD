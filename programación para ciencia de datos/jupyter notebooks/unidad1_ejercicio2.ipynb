{
 "cells": [
  {
   "cell_type": "code",
   "execution_count": 1,
   "id": "7cb5ec55",
   "metadata": {},
   "outputs": [
    {
     "name": "stdout",
     "output_type": "stream",
     "text": [
      "[[13  1]\n",
      " [14  1]\n",
      " [15  1]\n",
      " [16  1]\n",
      " [17  1]\n",
      " [18  1]]\n"
     ]
    }
   ],
   "source": [
    "import numpy as np\n",
    "A = np.array([[13, 1], [14, 1], [15, 1], [16, 1], [17, 1], [18, 1]])\n",
    "print(A)"
   ]
  },
  {
   "cell_type": "code",
   "execution_count": 2,
   "id": "6ad1cd6d",
   "metadata": {},
   "outputs": [
    {
     "name": "stdout",
     "output_type": "stream",
     "text": [
      "[ 16  24  45  57  75 102]\n"
     ]
    }
   ],
   "source": [
    "b = np.array([16,24,45,57,75,102])\n",
    "print(b)"
   ]
  },
  {
   "cell_type": "code",
   "execution_count": 9,
   "id": "0a210b95",
   "metadata": {},
   "outputs": [
    {
     "ename": "SyntaxError",
     "evalue": "invalid syntax (3533682528.py, line 6)",
     "output_type": "error",
     "traceback": [
      "\u001b[1;36m  Cell \u001b[1;32mIn[9], line 6\u001b[1;36m\u001b[0m\n\u001b[1;33m    $$\u001b[0m\n\u001b[1;37m    ^\u001b[0m\n\u001b[1;31mSyntaxError\u001b[0m\u001b[1;31m:\u001b[0m invalid syntax\n"
     ]
    }
   ],
   "source": [
    "transpose_A= A.T # transpose of A\n",
    "TA_dot_A = np.dot(transpose_A, A) # multiply tranpose of A and A\n",
    "inv_TA_dot_A =  np.linalg.inv(TA_dot_A) # inverse previous result\n",
    "TA_dot_b = np.dot(transpose_A, b) # multiply tranpose of A and B\n",
    "x_matrix  = np.dot(inv_TA_dot_A, TA_dot_b)\n",
    "print(x_matrix)\n"
   ]
  },
  {
   "cell_type": "code",
   "execution_count": 4,
   "id": "d1381451",
   "metadata": {},
   "outputs": [
    {
     "name": "stdout",
     "output_type": "stream",
     "text": [
      "10.83205120618128\n"
     ]
    }
   ],
   "source": [
    "A_x_dot = np.dot(A, x_matrix) # multiply A and x matrix\n",
    "# print(A_x_dot)\n",
    "diff_A_x_dot_And_b = A_x_dot - b # get matrix difference\n",
    "norm_final_matrix = np.linalg.norm(diff_A_x_dot_And_b) # get norm of the previous matrix\n",
    "print(norm_final_matrix)"
   ]
  },
  {
   "cell_type": "code",
   "execution_count": 5,
   "id": "69250289",
   "metadata": {},
   "outputs": [
    {
     "name": "stdout",
     "output_type": "stream",
     "text": [
      "[  17.         -210.33333333]\n"
     ]
    }
   ],
   "source": [
    "x_solution = np.linalg.solve(TA_dot_A, TA_dot_b)\n",
    "print(x_solution)"
   ]
  },
  {
   "cell_type": "code",
   "execution_count": 6,
   "id": "e5792558",
   "metadata": {},
   "outputs": [
    {
     "name": "stdout",
     "output_type": "stream",
     "text": [
      "10.832051206181271\n"
     ]
    }
   ],
   "source": [
    "norm_final2 = np.linalg.norm(np.dot(A,x_solution)-b) # calculate again norm using the matrix calculated in the previous cell\n",
    "print(norm_final2)"
   ]
  },
  {
   "cell_type": "code",
   "execution_count": 8,
   "id": "8fcb85ac",
   "metadata": {
    "scrolled": false
   },
   "outputs": [
    {
     "name": "stdout",
     "output_type": "stream",
     "text": [
      "(array([  17.        , -210.33333333]), array([117.33333333]), 2, array([38.27438209,  0.26772348]))\n"
     ]
    }
   ],
   "source": [
    "solved_system = np.linalg.lstsq(A, b, rcond=None) # solve system Ax = b\n",
    "print(solved_system)"
   ]
  },
  {
   "cell_type": "markdown",
   "id": "30c36a08",
   "metadata": {},
   "source": [
    "## Transpuesta\n",
    "\n",
    "La transpuesta de una matriz(expresada usualmente como A^t) donde las columnas son equivalentes a las filas de \n",
    "la matriz original.<br>\n",
    "En consecuencia cada valor de la columna original cuyas coordenadas estaban en las coordenadas ij pasa a estar en las \n",
    "coordenadas ji.<br>\n",
    "Ejemplo, si tenemos la matriz:\n",
    "$$\n",
    "  \\begin{bmatrix}\n",
    "1 & 2 \\\\\n",
    "3 & 4 \\\\\n",
    "\\end{bmatrix}\n",
    "$$\n",
    "Su transpuesta es: \n",
    "$$\n",
    "  \\begin{bmatrix}\n",
    "1 & 3 \\\\\n",
    "2 & 4 \\\\\n",
    "\\end{bmatrix}\n",
    "$$\n",
    "\n",
    "## Producto punto\n",
    "\n",
    "la operación punto entre dos matrices (expresada como A*B) es un tipo de multiplicación de matrices donde el resultado final\n",
    "es una nueva matriz con i filas (número de filas de la segunda matriz) y j columnas (número de columnas de la primera matriz)\n",
    "y donde el valor de cada valor en coordenadas ij es la suma del producto de los valores de la fila i en A y de la columna \n",
    "j en B. Para poder hacer la operación punto la primera matriz debe tener un número de filas equivalente a las columnas de \n",
    "la segunda matriz .\n",
    "ejemplo dee multiplicación de matrices:\n",
    "$$\n",
    "\\begin{bmatrix}\n",
    "1 & 2 \\\\\n",
    "3 & 4 \\\\\n",
    "\\end{bmatrix}\n",
    "\\cdot\n",
    "\\begin{bmatrix}\n",
    "5 \\\\\n",
    "6 \\\\\n",
    "\\end{bmatrix}\n",
    "$$\n",
    "\n",
    "Basado en la explicación anteriormente dada el resultado de esta multiplicación sería:\n",
    "$$\n",
    "\\begin{bmatrix}\n",
    "1 \\times 5 + 2 \\times 6 \\\\\n",
    "3 \\times 5 + 4 \\times 6 \\\\\n",
    "\\end{bmatrix}\n",
    "= \n",
    "\\begin{bmatrix}\n",
    "17 \\\\\n",
    "39 \\\\\n",
    "\\end{bmatrix}\n",
    "$$\n",
    "\n",
    "## Matriz invertida\n",
    "\n",
    "La matriz invertida se construye de la siguiente forma, teniendo una matriz de n x n, realizar operaciones sobre esta hasta obtener la matriz identidad, realizar las mismas operaciones sobre una matriz identidad y el resultado final de esta segunda matriz es la invertida. Ejemplo:\n",
    "$$\n",
    "\\begin{bmatrix}\n",
    "1 & 2 & 1 \\\\\n",
    "2 & 3 & 1 \\\\\n",
    "1 & 1 & 2 \\\\\n",
    "\\end{bmatrix}\n",
    "\\begin{bmatrix}\n",
    "1 & 0 & 0 \\\\\n",
    "0 & 1 & 0 \\\\\n",
    "0 & 0 & 1 \\\\\n",
    "\\end{bmatrix}\n",
    "$$\n",
    "empezamos a construir la matriz triangular superior en la primera columna:\n",
    "$$\n",
    "\\begin{bmatrix}\n",
    "1 & 2 & 1 \\\\\n",
    "0 & -1 & -1 \\\\\n",
    "0 & -1 & 1 \\\\\n",
    "\\end{bmatrix}\n",
    "\\begin{bmatrix}\n",
    "1 & 0 & 0 \\\\\n",
    "-2 & 1 & 0 \\\\\n",
    "-1 & 0 & 1 \\\\\n",
    "\\end{bmatrix}\n",
    "$$\n",
    "seguimos construyendo la matriz triangular con la segunda columna:\n",
    "$$\n",
    "\\begin{bmatrix}\n",
    "1 & 2 & 1 \\\\\n",
    "0 & -1 & -1 \\\\\n",
    "0 & 0 & 2 \\\\\n",
    "\\end{bmatrix}\n",
    "\\begin{bmatrix}\n",
    "1 & 0 & 0 \\\\\n",
    "-2 & 1 & 0 \\\\\n",
    "1 & -1 & 1 \\\\\n",
    "\\end{bmatrix}\n",
    "$$\n",
    "empezamos a construir la matriz identidad en la última file:\n",
    "$$\n",
    "\\begin{bmatrix}\n",
    "1 & 2 & 0 \\\\\n",
    "0 & -1 & 0 \\\\\n",
    "0 & 0 & 1 \\\\\n",
    "\\end{bmatrix}\n",
    "\\begin{bmatrix}\n",
    "\\frac{1}{2} & \\frac{1}{2} & \\frac{-1}{2} \\\\\n",
    "\\frac{-3}{2} & \\frac{1}{2} & \\frac{1}{2} \\\\\n",
    "\\frac{1}{2} & \\frac{-1}{2} & \\frac{1}{2} \\\\\n",
    "\\end{bmatrix}\n",
    "$$\n",
    "continuamos con la primera fila:\n",
    "$$\n",
    "\\begin{bmatrix}\n",
    "1 & 0 & 0 \\\\\n",
    "0 & -1 & 0 \\\\\n",
    "0 & 0 & 1 \\\\\n",
    "\\end{bmatrix}\n",
    "\\begin{bmatrix}\n",
    "\\frac{-5}{2} & \\frac{3}{2} & \\frac{1}{2} \\\\\n",
    "\\frac{-3}{2} & \\frac{1}{2} & \\frac{1}{2} \\\\\n",
    "\\frac{1}{2} & \\frac{-1}{2} & \\frac{1}{2} \\\\\n",
    "\\end{bmatrix}\n",
    "$$\n",
    "terminamos de hacer la matriz identidad en la segunda fila:\n",
    "$$\n",
    "\\begin{bmatrix}\n",
    "1 & 0 & 0 \\\\\n",
    "0 & 1 & 0 \\\\\n",
    "0 & 0 & 1 \\\\\n",
    "\\end{bmatrix}\n",
    "\\begin{bmatrix}\n",
    "\\frac{-5}{2} & \\frac{3}{2} & \\frac{1}{2} \\\\\n",
    "\\frac{3}{2} & \\frac{-1}{2} & \\frac{-1}{2} \\\\\n",
    "\\frac{1}{2} & \\frac{-1}{2} & \\frac{1}{2} \\\\\n",
    "\\end{bmatrix}\n",
    "$$\n",
    "\n",
    "## Suma (o diferencia) de matrices\n",
    "\n",
    "teníendo dos matrices A y B dodne ambas tienen las mismas dimensiones ij, la suma o diferencia es el resultado de sumar (o restar) cada par de valores de A y B que comparten las mismas coordenadas. Ejemplo:\n",
    "\n",
    "$$\n",
    "\\begin{bmatrix}\n",
    "1 & 2 \\\\\n",
    "3 & 4 \\\\\n",
    "\\end{bmatrix}\n",
    "+\n",
    "\\begin{bmatrix}\n",
    "5 & 6 \\\\\n",
    "7 & 8 \\\\\n",
    "\\end{bmatrix}\n",
    "=\n",
    "\\begin{bmatrix}\n",
    "5+1 & 6+2 \\\\\n",
    "7+3 & 8+4 \\\\\n",
    "\\end{bmatrix}\n",
    "=\n",
    "\\begin{bmatrix}\n",
    "6 & 8 \\\\\n",
    "10 & 12 \\\\\n",
    "\\end{bmatrix}\n",
    "$$\n",
    "\n",
    "## Norma de un vector o una matriz\n",
    "\n",
    "La norma de un vector o una matriz es la raiz cuadrada de los cuadrados de los componentes de la matriz o vector. Ejemplo, teniendo la siguiente matriz:\n",
    "$$\n",
    "\\begin{bmatrix}\n",
    "5 & 1 \\\\\n",
    "7 & 5 \\\\\n",
    "\\end{bmatrix}\n",
    "$$\n",
    "la norma de esta matriz es:\n",
    "$$\n",
    "\\sqrt{5^2 + 1^2 + 5^2 + 7^2} = \\sqrt{25 + 1 + 25 + 49} = \\sqrt{100} = 10\n",
    "$$\n",
    "\n",
    "## Resolver sistema lineal de ecuaciones\n",
    "\n",
    "En términos algebráicos se puede expresar que resolver un sistema lineal de ecuaciones e encontrar x de la función:\n",
    "\n",
    "$$\n",
    "Ax=b\n",
    "$$\n",
    "\n",
    "Donde A es una matriz, x es la columna de las incógnitas y b es la columna vector dee términos independientes. Existen muchos métodos para encontrar la solución, una forma es invirtiendo la matriz, mediante sustitución,y también mediante el método crammer. En este último método vamos sustituyendo una de las columnas de A por la del vector b, encontramos la determinante de esta nueva matriz y la dividimos por la determinante de la matriz A, y repetimos para cada columna y así econtramos todas las incógnitas. Ejemplo, teniendo el siguiente sistema de ecuaciones:\n",
    "\n",
    "$$\n",
    "2x + y = 7\n",
    "\\\\\n",
    "x + 3y = 6\n",
    "$$\n",
    "para x tenemos que:\n",
    "$$\n",
    "\\det \n",
    "\\begin{bmatrix}\n",
    "7 & 1 \\\\\n",
    "6 & 3 \\\\\n",
    "\\end{bmatrix}\n",
    "\\div\n",
    "\\det\n",
    "\\begin{bmatrix}\n",
    "2 & 1 \\\\\n",
    "1 & 3 \\\\\n",
    "\\end{bmatrix}\n",
    "= \n",
    "\\frac{7 \\times 3 - 1 \\times 6}{2 \\times 3 - 1 \\times 1} \n",
    "= \n",
    "\\frac{15}{5}\n",
    "=\n",
    "3\n",
    "$$\n",
    "Y para y tenemos:\n",
    "$$\n",
    "\\det \n",
    "\\begin{bmatrix}\n",
    "2 & 7 \\\\\n",
    "1 & 6 \\\\\n",
    "\\end{bmatrix}\n",
    "\\div\n",
    "\\det\n",
    "\\begin{bmatrix}\n",
    "2 & 1 \\\\\n",
    "1 & 3 \\\\\n",
    "\\end{bmatrix}\n",
    "= \n",
    "\\frac{2 \\times 6 - 7 \\times 1}{2 \\times 3 - 1 \\times 1} \n",
    "= \n",
    "\\frac{5}{5}\n",
    "=\n",
    "1\n",
    "$$\n",
    "por lo tanto:\n",
    "$$\n",
    "x=3, y=1\n",
    "$$"
   ]
  },
  {
   "cell_type": "code",
   "execution_count": null,
   "id": "6e0460c7",
   "metadata": {},
   "outputs": [],
   "source": []
  },
  {
   "cell_type": "code",
   "execution_count": null,
   "id": "143b9301",
   "metadata": {},
   "outputs": [],
   "source": []
  }
 ],
 "metadata": {
  "kernelspec": {
   "display_name": "Python 3 (ipykernel)",
   "language": "python",
   "name": "python3"
  },
  "language_info": {
   "codemirror_mode": {
    "name": "ipython",
    "version": 3
   },
   "file_extension": ".py",
   "mimetype": "text/x-python",
   "name": "python",
   "nbconvert_exporter": "python",
   "pygments_lexer": "ipython3",
   "version": "3.8.12"
  }
 },
 "nbformat": 4,
 "nbformat_minor": 5
}
