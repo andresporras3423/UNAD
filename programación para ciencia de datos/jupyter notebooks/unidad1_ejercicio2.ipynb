{
 "cells": [
  {
   "cell_type": "code",
   "execution_count": 1,
   "id": "7cb5ec55",
   "metadata": {},
   "outputs": [
    {
     "name": "stdout",
     "output_type": "stream",
     "text": [
      "[[13  1]\n",
      " [14  1]\n",
      " [15  1]\n",
      " [16  1]\n",
      " [17  1]\n",
      " [18  1]]\n"
     ]
    }
   ],
   "source": [
    "import numpy as np\n",
    "A = np.array([[13, 1], [14, 1], [15, 1], [16, 1], [17, 1], [18, 1]])\n",
    "print(A)"
   ]
  },
  {
   "cell_type": "code",
   "execution_count": 2,
   "id": "6ad1cd6d",
   "metadata": {},
   "outputs": [
    {
     "name": "stdout",
     "output_type": "stream",
     "text": [
      "[ 16  24  45  57  75 102]\n"
     ]
    }
   ],
   "source": [
    "b = np.array([16,24,45,57,75,102])\n",
    "print(b)"
   ]
  },
  {
   "cell_type": "code",
   "execution_count": 3,
   "id": "0a210b95",
   "metadata": {},
   "outputs": [
    {
     "name": "stdout",
     "output_type": "stream",
     "text": [
      "[  17.         -210.33333333]\n"
     ]
    }
   ],
   "source": [
    "transpose_A= A.T # transpose of A\n",
    "TA_dot_A = np.dot(transpose_A, A) # multiply tranpose of A and A\n",
    "inv_TA_dot_A =  np.linalg.inv(TA_dot_A) # inverse previous result\n",
    "TA_dot_b = np.dot(transpose_A, b) # multiply tranpose of A and B\n",
    "x_matrix  = np.dot(inv_TA_dot_A, TA_dot_b)\n",
    "print(x_matrix)\n"
   ]
  },
  {
   "cell_type": "code",
   "execution_count": 4,
   "id": "d1381451",
   "metadata": {},
   "outputs": [
    {
     "name": "stdout",
     "output_type": "stream",
     "text": [
      "10.83205120618128\n"
     ]
    }
   ],
   "source": [
    "A_x_dot = np.dot(A, x_matrix) # multiply A and x matrix\n",
    "# print(A_x_dot)\n",
    "diff_A_x_dot_And_b = A_x_dot - b # get matrix difference\n",
    "norm_final_matrix = np.linalg.norm(diff_A_x_dot_And_b) # get norm of the previous matrix\n",
    "print(norm_final_matrix)"
   ]
  },
  {
   "cell_type": "code",
   "execution_count": 5,
   "id": "69250289",
   "metadata": {},
   "outputs": [
    {
     "name": "stdout",
     "output_type": "stream",
     "text": [
      "[  17.         -210.33333333]\n"
     ]
    }
   ],
   "source": [
    "x_solution = np.linalg.solve(TA_dot_A, TA_dot_b)\n",
    "print(x_solution)"
   ]
  },
  {
   "cell_type": "code",
   "execution_count": 8,
   "id": "e5792558",
   "metadata": {},
   "outputs": [
    {
     "name": "stdout",
     "output_type": "stream",
     "text": [
      "10.832051206181271\n"
     ]
    }
   ],
   "source": [
    "norm_final2 = np.linalg.norm(np.dot(A,x_solution)-b) # calculate again norm using the matrix calculated in the previous cell\n",
    "print(norm_final2)"
   ]
  },
  {
   "cell_type": "code",
   "execution_count": null,
   "id": "9a72f98c",
   "metadata": {},
   "outputs": [],
   "source": []
  }
 ],
 "metadata": {
  "kernelspec": {
   "display_name": "Python 3 (ipykernel)",
   "language": "python",
   "name": "python3"
  },
  "language_info": {
   "codemirror_mode": {
    "name": "ipython",
    "version": 3
   },
   "file_extension": ".py",
   "mimetype": "text/x-python",
   "name": "python",
   "nbconvert_exporter": "python",
   "pygments_lexer": "ipython3",
   "version": "3.8.12"
  }
 },
 "nbformat": 4,
 "nbformat_minor": 5
}
